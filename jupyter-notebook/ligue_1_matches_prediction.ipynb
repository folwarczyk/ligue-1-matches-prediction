{
  "nbformat": 4,
  "nbformat_minor": 0,
  "metadata": {
    "colab": {
      "provenance": []
    },
    "kernelspec": {
      "name": "python3",
      "display_name": "Python 3"
    },
    "language_info": {
      "name": "python"
    }
  },
  "cells": [
    {
      "cell_type": "code",
      "execution_count": 2,
      "metadata": {
        "colab": {
          "base_uri": "https://localhost:8080/",
          "height": 91
        },
        "id": "SNcY42d_wHoh",
        "outputId": "725f0622-56bf-4d06-8687-e0c1fc4dc8cf"
      },
      "outputs": [
        {
          "output_type": "display_data",
          "data": {
            "text/plain": [
              "<IPython.core.display.HTML object>"
            ],
            "text/html": [
              "\n",
              "     <input type=\"file\" id=\"files-456cba61-f5f8-4193-a5d3-65d39d8561e9\" name=\"files[]\" multiple disabled\n",
              "        style=\"border:none\" />\n",
              "     <output id=\"result-456cba61-f5f8-4193-a5d3-65d39d8561e9\">\n",
              "      Upload widget is only available when the cell has been executed in the\n",
              "      current browser session. Please rerun this cell to enable.\n",
              "      </output>\n",
              "      <script>// Copyright 2017 Google LLC\n",
              "//\n",
              "// Licensed under the Apache License, Version 2.0 (the \"License\");\n",
              "// you may not use this file except in compliance with the License.\n",
              "// You may obtain a copy of the License at\n",
              "//\n",
              "//      http://www.apache.org/licenses/LICENSE-2.0\n",
              "//\n",
              "// Unless required by applicable law or agreed to in writing, software\n",
              "// distributed under the License is distributed on an \"AS IS\" BASIS,\n",
              "// WITHOUT WARRANTIES OR CONDITIONS OF ANY KIND, either express or implied.\n",
              "// See the License for the specific language governing permissions and\n",
              "// limitations under the License.\n",
              "\n",
              "/**\n",
              " * @fileoverview Helpers for google.colab Python module.\n",
              " */\n",
              "(function(scope) {\n",
              "function span(text, styleAttributes = {}) {\n",
              "  const element = document.createElement('span');\n",
              "  element.textContent = text;\n",
              "  for (const key of Object.keys(styleAttributes)) {\n",
              "    element.style[key] = styleAttributes[key];\n",
              "  }\n",
              "  return element;\n",
              "}\n",
              "\n",
              "// Max number of bytes which will be uploaded at a time.\n",
              "const MAX_PAYLOAD_SIZE = 100 * 1024;\n",
              "\n",
              "function _uploadFiles(inputId, outputId) {\n",
              "  const steps = uploadFilesStep(inputId, outputId);\n",
              "  const outputElement = document.getElementById(outputId);\n",
              "  // Cache steps on the outputElement to make it available for the next call\n",
              "  // to uploadFilesContinue from Python.\n",
              "  outputElement.steps = steps;\n",
              "\n",
              "  return _uploadFilesContinue(outputId);\n",
              "}\n",
              "\n",
              "// This is roughly an async generator (not supported in the browser yet),\n",
              "// where there are multiple asynchronous steps and the Python side is going\n",
              "// to poll for completion of each step.\n",
              "// This uses a Promise to block the python side on completion of each step,\n",
              "// then passes the result of the previous step as the input to the next step.\n",
              "function _uploadFilesContinue(outputId) {\n",
              "  const outputElement = document.getElementById(outputId);\n",
              "  const steps = outputElement.steps;\n",
              "\n",
              "  const next = steps.next(outputElement.lastPromiseValue);\n",
              "  return Promise.resolve(next.value.promise).then((value) => {\n",
              "    // Cache the last promise value to make it available to the next\n",
              "    // step of the generator.\n",
              "    outputElement.lastPromiseValue = value;\n",
              "    return next.value.response;\n",
              "  });\n",
              "}\n",
              "\n",
              "/**\n",
              " * Generator function which is called between each async step of the upload\n",
              " * process.\n",
              " * @param {string} inputId Element ID of the input file picker element.\n",
              " * @param {string} outputId Element ID of the output display.\n",
              " * @return {!Iterable<!Object>} Iterable of next steps.\n",
              " */\n",
              "function* uploadFilesStep(inputId, outputId) {\n",
              "  const inputElement = document.getElementById(inputId);\n",
              "  inputElement.disabled = false;\n",
              "\n",
              "  const outputElement = document.getElementById(outputId);\n",
              "  outputElement.innerHTML = '';\n",
              "\n",
              "  const pickedPromise = new Promise((resolve) => {\n",
              "    inputElement.addEventListener('change', (e) => {\n",
              "      resolve(e.target.files);\n",
              "    });\n",
              "  });\n",
              "\n",
              "  const cancel = document.createElement('button');\n",
              "  inputElement.parentElement.appendChild(cancel);\n",
              "  cancel.textContent = 'Cancel upload';\n",
              "  const cancelPromise = new Promise((resolve) => {\n",
              "    cancel.onclick = () => {\n",
              "      resolve(null);\n",
              "    };\n",
              "  });\n",
              "\n",
              "  // Wait for the user to pick the files.\n",
              "  const files = yield {\n",
              "    promise: Promise.race([pickedPromise, cancelPromise]),\n",
              "    response: {\n",
              "      action: 'starting',\n",
              "    }\n",
              "  };\n",
              "\n",
              "  cancel.remove();\n",
              "\n",
              "  // Disable the input element since further picks are not allowed.\n",
              "  inputElement.disabled = true;\n",
              "\n",
              "  if (!files) {\n",
              "    return {\n",
              "      response: {\n",
              "        action: 'complete',\n",
              "      }\n",
              "    };\n",
              "  }\n",
              "\n",
              "  for (const file of files) {\n",
              "    const li = document.createElement('li');\n",
              "    li.append(span(file.name, {fontWeight: 'bold'}));\n",
              "    li.append(span(\n",
              "        `(${file.type || 'n/a'}) - ${file.size} bytes, ` +\n",
              "        `last modified: ${\n",
              "            file.lastModifiedDate ? file.lastModifiedDate.toLocaleDateString() :\n",
              "                                    'n/a'} - `));\n",
              "    const percent = span('0% done');\n",
              "    li.appendChild(percent);\n",
              "\n",
              "    outputElement.appendChild(li);\n",
              "\n",
              "    const fileDataPromise = new Promise((resolve) => {\n",
              "      const reader = new FileReader();\n",
              "      reader.onload = (e) => {\n",
              "        resolve(e.target.result);\n",
              "      };\n",
              "      reader.readAsArrayBuffer(file);\n",
              "    });\n",
              "    // Wait for the data to be ready.\n",
              "    let fileData = yield {\n",
              "      promise: fileDataPromise,\n",
              "      response: {\n",
              "        action: 'continue',\n",
              "      }\n",
              "    };\n",
              "\n",
              "    // Use a chunked sending to avoid message size limits. See b/62115660.\n",
              "    let position = 0;\n",
              "    do {\n",
              "      const length = Math.min(fileData.byteLength - position, MAX_PAYLOAD_SIZE);\n",
              "      const chunk = new Uint8Array(fileData, position, length);\n",
              "      position += length;\n",
              "\n",
              "      const base64 = btoa(String.fromCharCode.apply(null, chunk));\n",
              "      yield {\n",
              "        response: {\n",
              "          action: 'append',\n",
              "          file: file.name,\n",
              "          data: base64,\n",
              "        },\n",
              "      };\n",
              "\n",
              "      let percentDone = fileData.byteLength === 0 ?\n",
              "          100 :\n",
              "          Math.round((position / fileData.byteLength) * 100);\n",
              "      percent.textContent = `${percentDone}% done`;\n",
              "\n",
              "    } while (position < fileData.byteLength);\n",
              "  }\n",
              "\n",
              "  // All done.\n",
              "  yield {\n",
              "    response: {\n",
              "      action: 'complete',\n",
              "    }\n",
              "  };\n",
              "}\n",
              "\n",
              "scope.google = scope.google || {};\n",
              "scope.google.colab = scope.google.colab || {};\n",
              "scope.google.colab._files = {\n",
              "  _uploadFiles,\n",
              "  _uploadFilesContinue,\n",
              "};\n",
              "})(self);\n",
              "</script> "
            ]
          },
          "metadata": {}
        },
        {
          "output_type": "stream",
          "name": "stdout",
          "text": [
            "Saving ligue-1-matches.csv to ligue-1-matches.csv\n",
            "User uploaded file \"ligue-1-matches.csv\" with length 624554 bytes\n"
          ]
        }
      ],
      "source": [
        "from google.colab import files\n",
        "\n",
        "uploaded = files.upload()\n",
        "\n",
        "for fn in uploaded.keys():\n",
        "  print('User uploaded file \"{name}\" with length {length} bytes'.format(\n",
        "      name=fn, length=len(uploaded[fn])))\n"
      ]
    },
    {
      "cell_type": "markdown",
      "source": [
        "**Loading data:** At the beginning of the code, the required libraries are imported, and then a CSV file containing data from French league matches is loaded."
      ],
      "metadata": {
        "id": "ykT7bvleEAp2"
      }
    },
    {
      "cell_type": "code",
      "source": [
        "import pandas as pd\n",
        "\n",
        "df = pd.read_csv('ligue-1-matches.csv', index_col=0)  "
      ],
      "metadata": {
        "id": "ToTrWeZWwO0Q"
      },
      "execution_count": 3,
      "outputs": []
    },
    {
      "cell_type": "code",
      "source": [
        "df.head()"
      ],
      "metadata": {
        "colab": {
          "base_uri": "https://localhost:8080/",
          "height": 383
        },
        "id": "4I4soug1wQW9",
        "outputId": "126bd742-6444-4b1b-c920-42e7bbdfbe60"
      },
      "execution_count": 4,
      "outputs": [
        {
          "output_type": "execute_result",
          "data": {
            "text/plain": [
              "         date   time     comp        round  day venue result   gf   ga  \\\n",
              "1  2022-08-06  21:00  Ligue 1  Matchweek 1  Sat  Away      W  5.0  0.0   \n",
              "2  2022-08-13  21:00  Ligue 1  Matchweek 2  Sat  Home      W  5.0  2.0   \n",
              "3  2022-08-21  20:45  Ligue 1  Matchweek 3  Sun  Away      W  7.0  1.0   \n",
              "4  2022-08-28  20:45  Ligue 1  Matchweek 4  Sun  Home      D  1.0  1.0   \n",
              "5  2022-08-31  21:00  Ligue 1  Matchweek 5  Wed  Away      W  3.0  0.0   \n",
              "\n",
              "        opponent  ...  match report  notes    sh   sot  dist   fk   pk pkatt  \\\n",
              "1  Clermont Foot  ...  Match Report    NaN  18.0  12.0  12.9  1.0  0.0   0.0   \n",
              "2    Montpellier  ...  Match Report    NaN  18.0   8.0  18.2  3.0  1.0   2.0   \n",
              "3          Lille  ...  Match Report    NaN  16.0   9.0  11.9  0.0  0.0   0.0   \n",
              "4         Monaco  ...  Match Report    NaN  17.0   4.0  18.7  0.0  1.0   1.0   \n",
              "5       Toulouse  ...  Match Report    NaN  20.0  12.0  14.8  2.0  0.0   0.0   \n",
              "\n",
              "   season                 team  \n",
              "1    2023  Paris Saint Germain  \n",
              "2    2023  Paris Saint Germain  \n",
              "3    2023  Paris Saint Germain  \n",
              "4    2023  Paris Saint Germain  \n",
              "5    2023  Paris Saint Germain  \n",
              "\n",
              "[5 rows x 27 columns]"
            ],
            "text/html": [
              "\n",
              "  <div id=\"df-e2a838a1-4ce7-439d-a3dc-83c576ad0bdf\">\n",
              "    <div class=\"colab-df-container\">\n",
              "      <div>\n",
              "<style scoped>\n",
              "    .dataframe tbody tr th:only-of-type {\n",
              "        vertical-align: middle;\n",
              "    }\n",
              "\n",
              "    .dataframe tbody tr th {\n",
              "        vertical-align: top;\n",
              "    }\n",
              "\n",
              "    .dataframe thead th {\n",
              "        text-align: right;\n",
              "    }\n",
              "</style>\n",
              "<table border=\"1\" class=\"dataframe\">\n",
              "  <thead>\n",
              "    <tr style=\"text-align: right;\">\n",
              "      <th></th>\n",
              "      <th>date</th>\n",
              "      <th>time</th>\n",
              "      <th>comp</th>\n",
              "      <th>round</th>\n",
              "      <th>day</th>\n",
              "      <th>venue</th>\n",
              "      <th>result</th>\n",
              "      <th>gf</th>\n",
              "      <th>ga</th>\n",
              "      <th>opponent</th>\n",
              "      <th>...</th>\n",
              "      <th>match report</th>\n",
              "      <th>notes</th>\n",
              "      <th>sh</th>\n",
              "      <th>sot</th>\n",
              "      <th>dist</th>\n",
              "      <th>fk</th>\n",
              "      <th>pk</th>\n",
              "      <th>pkatt</th>\n",
              "      <th>season</th>\n",
              "      <th>team</th>\n",
              "    </tr>\n",
              "  </thead>\n",
              "  <tbody>\n",
              "    <tr>\n",
              "      <th>1</th>\n",
              "      <td>2022-08-06</td>\n",
              "      <td>21:00</td>\n",
              "      <td>Ligue 1</td>\n",
              "      <td>Matchweek 1</td>\n",
              "      <td>Sat</td>\n",
              "      <td>Away</td>\n",
              "      <td>W</td>\n",
              "      <td>5.0</td>\n",
              "      <td>0.0</td>\n",
              "      <td>Clermont Foot</td>\n",
              "      <td>...</td>\n",
              "      <td>Match Report</td>\n",
              "      <td>NaN</td>\n",
              "      <td>18.0</td>\n",
              "      <td>12.0</td>\n",
              "      <td>12.9</td>\n",
              "      <td>1.0</td>\n",
              "      <td>0.0</td>\n",
              "      <td>0.0</td>\n",
              "      <td>2023</td>\n",
              "      <td>Paris Saint Germain</td>\n",
              "    </tr>\n",
              "    <tr>\n",
              "      <th>2</th>\n",
              "      <td>2022-08-13</td>\n",
              "      <td>21:00</td>\n",
              "      <td>Ligue 1</td>\n",
              "      <td>Matchweek 2</td>\n",
              "      <td>Sat</td>\n",
              "      <td>Home</td>\n",
              "      <td>W</td>\n",
              "      <td>5.0</td>\n",
              "      <td>2.0</td>\n",
              "      <td>Montpellier</td>\n",
              "      <td>...</td>\n",
              "      <td>Match Report</td>\n",
              "      <td>NaN</td>\n",
              "      <td>18.0</td>\n",
              "      <td>8.0</td>\n",
              "      <td>18.2</td>\n",
              "      <td>3.0</td>\n",
              "      <td>1.0</td>\n",
              "      <td>2.0</td>\n",
              "      <td>2023</td>\n",
              "      <td>Paris Saint Germain</td>\n",
              "    </tr>\n",
              "    <tr>\n",
              "      <th>3</th>\n",
              "      <td>2022-08-21</td>\n",
              "      <td>20:45</td>\n",
              "      <td>Ligue 1</td>\n",
              "      <td>Matchweek 3</td>\n",
              "      <td>Sun</td>\n",
              "      <td>Away</td>\n",
              "      <td>W</td>\n",
              "      <td>7.0</td>\n",
              "      <td>1.0</td>\n",
              "      <td>Lille</td>\n",
              "      <td>...</td>\n",
              "      <td>Match Report</td>\n",
              "      <td>NaN</td>\n",
              "      <td>16.0</td>\n",
              "      <td>9.0</td>\n",
              "      <td>11.9</td>\n",
              "      <td>0.0</td>\n",
              "      <td>0.0</td>\n",
              "      <td>0.0</td>\n",
              "      <td>2023</td>\n",
              "      <td>Paris Saint Germain</td>\n",
              "    </tr>\n",
              "    <tr>\n",
              "      <th>4</th>\n",
              "      <td>2022-08-28</td>\n",
              "      <td>20:45</td>\n",
              "      <td>Ligue 1</td>\n",
              "      <td>Matchweek 4</td>\n",
              "      <td>Sun</td>\n",
              "      <td>Home</td>\n",
              "      <td>D</td>\n",
              "      <td>1.0</td>\n",
              "      <td>1.0</td>\n",
              "      <td>Monaco</td>\n",
              "      <td>...</td>\n",
              "      <td>Match Report</td>\n",
              "      <td>NaN</td>\n",
              "      <td>17.0</td>\n",
              "      <td>4.0</td>\n",
              "      <td>18.7</td>\n",
              "      <td>0.0</td>\n",
              "      <td>1.0</td>\n",
              "      <td>1.0</td>\n",
              "      <td>2023</td>\n",
              "      <td>Paris Saint Germain</td>\n",
              "    </tr>\n",
              "    <tr>\n",
              "      <th>5</th>\n",
              "      <td>2022-08-31</td>\n",
              "      <td>21:00</td>\n",
              "      <td>Ligue 1</td>\n",
              "      <td>Matchweek 5</td>\n",
              "      <td>Wed</td>\n",
              "      <td>Away</td>\n",
              "      <td>W</td>\n",
              "      <td>3.0</td>\n",
              "      <td>0.0</td>\n",
              "      <td>Toulouse</td>\n",
              "      <td>...</td>\n",
              "      <td>Match Report</td>\n",
              "      <td>NaN</td>\n",
              "      <td>20.0</td>\n",
              "      <td>12.0</td>\n",
              "      <td>14.8</td>\n",
              "      <td>2.0</td>\n",
              "      <td>0.0</td>\n",
              "      <td>0.0</td>\n",
              "      <td>2023</td>\n",
              "      <td>Paris Saint Germain</td>\n",
              "    </tr>\n",
              "  </tbody>\n",
              "</table>\n",
              "<p>5 rows × 27 columns</p>\n",
              "</div>\n",
              "      <button class=\"colab-df-convert\" onclick=\"convertToInteractive('df-e2a838a1-4ce7-439d-a3dc-83c576ad0bdf')\"\n",
              "              title=\"Convert this dataframe to an interactive table.\"\n",
              "              style=\"display:none;\">\n",
              "        \n",
              "  <svg xmlns=\"http://www.w3.org/2000/svg\" height=\"24px\"viewBox=\"0 0 24 24\"\n",
              "       width=\"24px\">\n",
              "    <path d=\"M0 0h24v24H0V0z\" fill=\"none\"/>\n",
              "    <path d=\"M18.56 5.44l.94 2.06.94-2.06 2.06-.94-2.06-.94-.94-2.06-.94 2.06-2.06.94zm-11 1L8.5 8.5l.94-2.06 2.06-.94-2.06-.94L8.5 2.5l-.94 2.06-2.06.94zm10 10l.94 2.06.94-2.06 2.06-.94-2.06-.94-.94-2.06-.94 2.06-2.06.94z\"/><path d=\"M17.41 7.96l-1.37-1.37c-.4-.4-.92-.59-1.43-.59-.52 0-1.04.2-1.43.59L10.3 9.45l-7.72 7.72c-.78.78-.78 2.05 0 2.83L4 21.41c.39.39.9.59 1.41.59.51 0 1.02-.2 1.41-.59l7.78-7.78 2.81-2.81c.8-.78.8-2.07 0-2.86zM5.41 20L4 18.59l7.72-7.72 1.47 1.35L5.41 20z\"/>\n",
              "  </svg>\n",
              "      </button>\n",
              "      \n",
              "  <style>\n",
              "    .colab-df-container {\n",
              "      display:flex;\n",
              "      flex-wrap:wrap;\n",
              "      gap: 12px;\n",
              "    }\n",
              "\n",
              "    .colab-df-convert {\n",
              "      background-color: #E8F0FE;\n",
              "      border: none;\n",
              "      border-radius: 50%;\n",
              "      cursor: pointer;\n",
              "      display: none;\n",
              "      fill: #1967D2;\n",
              "      height: 32px;\n",
              "      padding: 0 0 0 0;\n",
              "      width: 32px;\n",
              "    }\n",
              "\n",
              "    .colab-df-convert:hover {\n",
              "      background-color: #E2EBFA;\n",
              "      box-shadow: 0px 1px 2px rgba(60, 64, 67, 0.3), 0px 1px 3px 1px rgba(60, 64, 67, 0.15);\n",
              "      fill: #174EA6;\n",
              "    }\n",
              "\n",
              "    [theme=dark] .colab-df-convert {\n",
              "      background-color: #3B4455;\n",
              "      fill: #D2E3FC;\n",
              "    }\n",
              "\n",
              "    [theme=dark] .colab-df-convert:hover {\n",
              "      background-color: #434B5C;\n",
              "      box-shadow: 0px 1px 3px 1px rgba(0, 0, 0, 0.15);\n",
              "      filter: drop-shadow(0px 1px 2px rgba(0, 0, 0, 0.3));\n",
              "      fill: #FFFFFF;\n",
              "    }\n",
              "  </style>\n",
              "\n",
              "      <script>\n",
              "        const buttonEl =\n",
              "          document.querySelector('#df-e2a838a1-4ce7-439d-a3dc-83c576ad0bdf button.colab-df-convert');\n",
              "        buttonEl.style.display =\n",
              "          google.colab.kernel.accessAllowed ? 'block' : 'none';\n",
              "\n",
              "        async function convertToInteractive(key) {\n",
              "          const element = document.querySelector('#df-e2a838a1-4ce7-439d-a3dc-83c576ad0bdf');\n",
              "          const dataTable =\n",
              "            await google.colab.kernel.invokeFunction('convertToInteractive',\n",
              "                                                     [key], {});\n",
              "          if (!dataTable) return;\n",
              "\n",
              "          const docLinkHtml = 'Like what you see? Visit the ' +\n",
              "            '<a target=\"_blank\" href=https://colab.research.google.com/notebooks/data_table.ipynb>data table notebook</a>'\n",
              "            + ' to learn more about interactive tables.';\n",
              "          element.innerHTML = '';\n",
              "          dataTable['output_type'] = 'display_data';\n",
              "          await google.colab.output.renderOutput(dataTable, element);\n",
              "          const docLink = document.createElement('div');\n",
              "          docLink.innerHTML = docLinkHtml;\n",
              "          element.appendChild(docLink);\n",
              "        }\n",
              "      </script>\n",
              "    </div>\n",
              "  </div>\n",
              "  "
            ]
          },
          "metadata": {},
          "execution_count": 4
        }
      ]
    },
    {
      "cell_type": "code",
      "source": [
        "df.columns"
      ],
      "metadata": {
        "colab": {
          "base_uri": "https://localhost:8080/"
        },
        "id": "JaFIXtpJwTcQ",
        "outputId": "31a3b7b7-351a-43e9-9184-764e9066bef9"
      },
      "execution_count": 5,
      "outputs": [
        {
          "output_type": "execute_result",
          "data": {
            "text/plain": [
              "Index(['date', 'time', 'comp', 'round', 'day', 'venue', 'result', 'gf', 'ga',\n",
              "       'opponent', 'xg', 'xga', 'poss', 'attendance', 'captain', 'formation',\n",
              "       'referee', 'match report', 'notes', 'sh', 'sot', 'dist', 'fk', 'pk',\n",
              "       'pkatt', 'season', 'team'],\n",
              "      dtype='object')"
            ]
          },
          "metadata": {},
          "execution_count": 5
        }
      ]
    },
    {
      "cell_type": "markdown",
      "source": [
        "#Data preprocessing:"
      ],
      "metadata": {
        "id": "m3pPUS7dEK4l"
      }
    },
    {
      "cell_type": "markdown",
      "source": [
        "Removal of redundant columns: Only necessary columns are selected to be used for analysis and prediction of results."
      ],
      "metadata": {
        "id": "yvvueAGCESas"
      }
    },
    {
      "cell_type": "code",
      "source": [
        "columns_to_keep = ['venue', 'opponent', 'xg', 'xga', 'poss', 'attendance', 'sh', 'sot', \n",
        "                   'formation', 'fk', 'pk', 'pkatt', 'season', 'date', 'team', 'result']\n",
        "df = df[columns_to_keep]\n"
      ],
      "metadata": {
        "id": "KRpceuMGw6Xw"
      },
      "execution_count": 6,
      "outputs": []
    },
    {
      "cell_type": "markdown",
      "source": [
        "Quick overview of selected columns: \n",
        "1. **venue**: The venue of the match may affect the result. Teams often play better at home.\n",
        "2. **opponent**: The strength of the opponent affects the probability of winning.\n",
        "3. **xg and xga**: These are the \"expected goals\" stats for the team and its opponent. They can provide information on how well a team has performed in the past.\n",
        "4. **poss**: Possession of the ball can be a significant factor in the outcome of a match.\n",
        "5. **attendance**: Match attendance can affect the atmosphere of the match and the final result.\n",
        "6. **sh and sot**: Shots and shots on goal can be a good indicator of a team's offensive capabilities.\n",
        "7. **formation**: The formation a team plays in can affect its effectiveness.\n",
        "8. **fk, pk and pkatt**: Free kicks, penalty kicks and penalty kick attempts can affect the outcome of a match.\n",
        "9. **season and date**: Time-related trends, such as a team's form in different seasons or at different points in a season, can affect the outcome of a match.\n"
      ],
      "metadata": {
        "id": "GnyIYGvnEby9"
      }
    },
    {
      "cell_type": "code",
      "source": [
        "df.head()"
      ],
      "metadata": {
        "colab": {
          "base_uri": "https://localhost:8080/",
          "height": 206
        },
        "id": "2xPZAyqpw-Io",
        "outputId": "c9921604-057d-4c8d-9d7b-0cda8737f468"
      },
      "execution_count": 7,
      "outputs": [
        {
          "output_type": "execute_result",
          "data": {
            "text/plain": [
              "  venue       opponent   xg  xga  poss  attendance    sh   sot formation   fk  \\\n",
              "1  Away  Clermont Foot  3.5  0.3  62.0     12203.0  18.0  12.0     3-4-3  1.0   \n",
              "2  Home    Montpellier  3.2  0.9  59.0     46000.0  18.0   8.0   3-4-1-2  3.0   \n",
              "3  Away          Lille  3.4  1.7  52.0     47526.0  16.0   9.0     3-4-3  0.0   \n",
              "4  Home         Monaco  2.7  1.2  67.0     46000.0  17.0   4.0     3-4-3  0.0   \n",
              "5  Away       Toulouse  2.8  0.8  62.0     31700.0  20.0  12.0     3-4-3  2.0   \n",
              "\n",
              "    pk  pkatt  season        date                 team result  \n",
              "1  0.0    0.0    2023  2022-08-06  Paris Saint Germain      W  \n",
              "2  1.0    2.0    2023  2022-08-13  Paris Saint Germain      W  \n",
              "3  0.0    0.0    2023  2022-08-21  Paris Saint Germain      W  \n",
              "4  1.0    1.0    2023  2022-08-28  Paris Saint Germain      D  \n",
              "5  0.0    0.0    2023  2022-08-31  Paris Saint Germain      W  "
            ],
            "text/html": [
              "\n",
              "  <div id=\"df-679217dc-f1a7-4031-9994-a42d8684f037\">\n",
              "    <div class=\"colab-df-container\">\n",
              "      <div>\n",
              "<style scoped>\n",
              "    .dataframe tbody tr th:only-of-type {\n",
              "        vertical-align: middle;\n",
              "    }\n",
              "\n",
              "    .dataframe tbody tr th {\n",
              "        vertical-align: top;\n",
              "    }\n",
              "\n",
              "    .dataframe thead th {\n",
              "        text-align: right;\n",
              "    }\n",
              "</style>\n",
              "<table border=\"1\" class=\"dataframe\">\n",
              "  <thead>\n",
              "    <tr style=\"text-align: right;\">\n",
              "      <th></th>\n",
              "      <th>venue</th>\n",
              "      <th>opponent</th>\n",
              "      <th>xg</th>\n",
              "      <th>xga</th>\n",
              "      <th>poss</th>\n",
              "      <th>attendance</th>\n",
              "      <th>sh</th>\n",
              "      <th>sot</th>\n",
              "      <th>formation</th>\n",
              "      <th>fk</th>\n",
              "      <th>pk</th>\n",
              "      <th>pkatt</th>\n",
              "      <th>season</th>\n",
              "      <th>date</th>\n",
              "      <th>team</th>\n",
              "      <th>result</th>\n",
              "    </tr>\n",
              "  </thead>\n",
              "  <tbody>\n",
              "    <tr>\n",
              "      <th>1</th>\n",
              "      <td>Away</td>\n",
              "      <td>Clermont Foot</td>\n",
              "      <td>3.5</td>\n",
              "      <td>0.3</td>\n",
              "      <td>62.0</td>\n",
              "      <td>12203.0</td>\n",
              "      <td>18.0</td>\n",
              "      <td>12.0</td>\n",
              "      <td>3-4-3</td>\n",
              "      <td>1.0</td>\n",
              "      <td>0.0</td>\n",
              "      <td>0.0</td>\n",
              "      <td>2023</td>\n",
              "      <td>2022-08-06</td>\n",
              "      <td>Paris Saint Germain</td>\n",
              "      <td>W</td>\n",
              "    </tr>\n",
              "    <tr>\n",
              "      <th>2</th>\n",
              "      <td>Home</td>\n",
              "      <td>Montpellier</td>\n",
              "      <td>3.2</td>\n",
              "      <td>0.9</td>\n",
              "      <td>59.0</td>\n",
              "      <td>46000.0</td>\n",
              "      <td>18.0</td>\n",
              "      <td>8.0</td>\n",
              "      <td>3-4-1-2</td>\n",
              "      <td>3.0</td>\n",
              "      <td>1.0</td>\n",
              "      <td>2.0</td>\n",
              "      <td>2023</td>\n",
              "      <td>2022-08-13</td>\n",
              "      <td>Paris Saint Germain</td>\n",
              "      <td>W</td>\n",
              "    </tr>\n",
              "    <tr>\n",
              "      <th>3</th>\n",
              "      <td>Away</td>\n",
              "      <td>Lille</td>\n",
              "      <td>3.4</td>\n",
              "      <td>1.7</td>\n",
              "      <td>52.0</td>\n",
              "      <td>47526.0</td>\n",
              "      <td>16.0</td>\n",
              "      <td>9.0</td>\n",
              "      <td>3-4-3</td>\n",
              "      <td>0.0</td>\n",
              "      <td>0.0</td>\n",
              "      <td>0.0</td>\n",
              "      <td>2023</td>\n",
              "      <td>2022-08-21</td>\n",
              "      <td>Paris Saint Germain</td>\n",
              "      <td>W</td>\n",
              "    </tr>\n",
              "    <tr>\n",
              "      <th>4</th>\n",
              "      <td>Home</td>\n",
              "      <td>Monaco</td>\n",
              "      <td>2.7</td>\n",
              "      <td>1.2</td>\n",
              "      <td>67.0</td>\n",
              "      <td>46000.0</td>\n",
              "      <td>17.0</td>\n",
              "      <td>4.0</td>\n",
              "      <td>3-4-3</td>\n",
              "      <td>0.0</td>\n",
              "      <td>1.0</td>\n",
              "      <td>1.0</td>\n",
              "      <td>2023</td>\n",
              "      <td>2022-08-28</td>\n",
              "      <td>Paris Saint Germain</td>\n",
              "      <td>D</td>\n",
              "    </tr>\n",
              "    <tr>\n",
              "      <th>5</th>\n",
              "      <td>Away</td>\n",
              "      <td>Toulouse</td>\n",
              "      <td>2.8</td>\n",
              "      <td>0.8</td>\n",
              "      <td>62.0</td>\n",
              "      <td>31700.0</td>\n",
              "      <td>20.0</td>\n",
              "      <td>12.0</td>\n",
              "      <td>3-4-3</td>\n",
              "      <td>2.0</td>\n",
              "      <td>0.0</td>\n",
              "      <td>0.0</td>\n",
              "      <td>2023</td>\n",
              "      <td>2022-08-31</td>\n",
              "      <td>Paris Saint Germain</td>\n",
              "      <td>W</td>\n",
              "    </tr>\n",
              "  </tbody>\n",
              "</table>\n",
              "</div>\n",
              "      <button class=\"colab-df-convert\" onclick=\"convertToInteractive('df-679217dc-f1a7-4031-9994-a42d8684f037')\"\n",
              "              title=\"Convert this dataframe to an interactive table.\"\n",
              "              style=\"display:none;\">\n",
              "        \n",
              "  <svg xmlns=\"http://www.w3.org/2000/svg\" height=\"24px\"viewBox=\"0 0 24 24\"\n",
              "       width=\"24px\">\n",
              "    <path d=\"M0 0h24v24H0V0z\" fill=\"none\"/>\n",
              "    <path d=\"M18.56 5.44l.94 2.06.94-2.06 2.06-.94-2.06-.94-.94-2.06-.94 2.06-2.06.94zm-11 1L8.5 8.5l.94-2.06 2.06-.94-2.06-.94L8.5 2.5l-.94 2.06-2.06.94zm10 10l.94 2.06.94-2.06 2.06-.94-2.06-.94-.94-2.06-.94 2.06-2.06.94z\"/><path d=\"M17.41 7.96l-1.37-1.37c-.4-.4-.92-.59-1.43-.59-.52 0-1.04.2-1.43.59L10.3 9.45l-7.72 7.72c-.78.78-.78 2.05 0 2.83L4 21.41c.39.39.9.59 1.41.59.51 0 1.02-.2 1.41-.59l7.78-7.78 2.81-2.81c.8-.78.8-2.07 0-2.86zM5.41 20L4 18.59l7.72-7.72 1.47 1.35L5.41 20z\"/>\n",
              "  </svg>\n",
              "      </button>\n",
              "      \n",
              "  <style>\n",
              "    .colab-df-container {\n",
              "      display:flex;\n",
              "      flex-wrap:wrap;\n",
              "      gap: 12px;\n",
              "    }\n",
              "\n",
              "    .colab-df-convert {\n",
              "      background-color: #E8F0FE;\n",
              "      border: none;\n",
              "      border-radius: 50%;\n",
              "      cursor: pointer;\n",
              "      display: none;\n",
              "      fill: #1967D2;\n",
              "      height: 32px;\n",
              "      padding: 0 0 0 0;\n",
              "      width: 32px;\n",
              "    }\n",
              "\n",
              "    .colab-df-convert:hover {\n",
              "      background-color: #E2EBFA;\n",
              "      box-shadow: 0px 1px 2px rgba(60, 64, 67, 0.3), 0px 1px 3px 1px rgba(60, 64, 67, 0.15);\n",
              "      fill: #174EA6;\n",
              "    }\n",
              "\n",
              "    [theme=dark] .colab-df-convert {\n",
              "      background-color: #3B4455;\n",
              "      fill: #D2E3FC;\n",
              "    }\n",
              "\n",
              "    [theme=dark] .colab-df-convert:hover {\n",
              "      background-color: #434B5C;\n",
              "      box-shadow: 0px 1px 3px 1px rgba(0, 0, 0, 0.15);\n",
              "      filter: drop-shadow(0px 1px 2px rgba(0, 0, 0, 0.3));\n",
              "      fill: #FFFFFF;\n",
              "    }\n",
              "  </style>\n",
              "\n",
              "      <script>\n",
              "        const buttonEl =\n",
              "          document.querySelector('#df-679217dc-f1a7-4031-9994-a42d8684f037 button.colab-df-convert');\n",
              "        buttonEl.style.display =\n",
              "          google.colab.kernel.accessAllowed ? 'block' : 'none';\n",
              "\n",
              "        async function convertToInteractive(key) {\n",
              "          const element = document.querySelector('#df-679217dc-f1a7-4031-9994-a42d8684f037');\n",
              "          const dataTable =\n",
              "            await google.colab.kernel.invokeFunction('convertToInteractive',\n",
              "                                                     [key], {});\n",
              "          if (!dataTable) return;\n",
              "\n",
              "          const docLinkHtml = 'Like what you see? Visit the ' +\n",
              "            '<a target=\"_blank\" href=https://colab.research.google.com/notebooks/data_table.ipynb>data table notebook</a>'\n",
              "            + ' to learn more about interactive tables.';\n",
              "          element.innerHTML = '';\n",
              "          dataTable['output_type'] = 'display_data';\n",
              "          await google.colab.output.renderOutput(dataTable, element);\n",
              "          const docLink = document.createElement('div');\n",
              "          docLink.innerHTML = docLinkHtml;\n",
              "          element.appendChild(docLink);\n",
              "        }\n",
              "      </script>\n",
              "    </div>\n",
              "  </div>\n",
              "  "
            ]
          },
          "metadata": {},
          "execution_count": 7
        }
      ]
    },
    {
      "cell_type": "code",
      "source": [
        "df.columns"
      ],
      "metadata": {
        "colab": {
          "base_uri": "https://localhost:8080/"
        },
        "id": "1riedIsPxyY6",
        "outputId": "8145f510-fbc6-456b-a644-179bc63dce8b"
      },
      "execution_count": 8,
      "outputs": [
        {
          "output_type": "execute_result",
          "data": {
            "text/plain": [
              "Index(['venue', 'opponent', 'xg', 'xga', 'poss', 'attendance', 'sh', 'sot',\n",
              "       'formation', 'fk', 'pk', 'pkatt', 'season', 'date', 'team', 'result'],\n",
              "      dtype='object')"
            ]
          },
          "metadata": {},
          "execution_count": 8
        }
      ]
    },
    {
      "cell_type": "code",
      "source": [
        "df.isna().sum()"
      ],
      "metadata": {
        "colab": {
          "base_uri": "https://localhost:8080/"
        },
        "id": "a12__-qrx6zx",
        "outputId": "a5ed280c-f09f-4ea8-9c4a-f115260997a5"
      },
      "execution_count": 9,
      "outputs": [
        {
          "output_type": "execute_result",
          "data": {
            "text/plain": [
              "venue           0\n",
              "opponent        0\n",
              "xg              0\n",
              "xga             0\n",
              "poss            0\n",
              "attendance    912\n",
              "sh              0\n",
              "sot             0\n",
              "formation       0\n",
              "fk              0\n",
              "pk              0\n",
              "pkatt           0\n",
              "season          0\n",
              "date            0\n",
              "team            0\n",
              "result          0\n",
              "dtype: int64"
            ]
          },
          "metadata": {},
          "execution_count": 9
        }
      ]
    },
    {
      "cell_type": "code",
      "source": [
        "df.dtypes"
      ],
      "metadata": {
        "colab": {
          "base_uri": "https://localhost:8080/"
        },
        "id": "mv8HwkWZyDxR",
        "outputId": "86980b8f-84a6-4da7-d97f-6b92d37d2b27"
      },
      "execution_count": 10,
      "outputs": [
        {
          "output_type": "execute_result",
          "data": {
            "text/plain": [
              "venue          object\n",
              "opponent       object\n",
              "xg            float64\n",
              "xga           float64\n",
              "poss          float64\n",
              "attendance    float64\n",
              "sh            float64\n",
              "sot           float64\n",
              "formation      object\n",
              "fk            float64\n",
              "pk            float64\n",
              "pkatt         float64\n",
              "season          int64\n",
              "date           object\n",
              "team           object\n",
              "result         object\n",
              "dtype: object"
            ]
          },
          "metadata": {},
          "execution_count": 10
        }
      ]
    },
    {
      "cell_type": "markdown",
      "source": [
        "Supplementing missing data:\n",
        "\n",
        "You can either delete these rows or fill in the missing values. Deleting the rows is not a good solution because you can lose a lot of important data. Instead, we can fill in the missing values with the mean frequency or zero."
      ],
      "metadata": {
        "id": "SltDGldjyT9Q"
      }
    },
    {
      "cell_type": "code",
      "source": [
        "df['attendance'] = df['attendance'].fillna(df['attendance'].mean()) \n",
        "# or df['attendance'].fillna(0)\n"
      ],
      "metadata": {
        "id": "Ppfw2N3dyTOQ"
      },
      "execution_count": 11,
      "outputs": []
    },
    {
      "cell_type": "code",
      "source": [
        "df.isna().sum()"
      ],
      "metadata": {
        "colab": {
          "base_uri": "https://localhost:8080/"
        },
        "id": "mgB065dryYcj",
        "outputId": "e4731d98-579a-4115-abaf-8d5d0fcba9f5"
      },
      "execution_count": 12,
      "outputs": [
        {
          "output_type": "execute_result",
          "data": {
            "text/plain": [
              "venue         0\n",
              "opponent      0\n",
              "xg            0\n",
              "xga           0\n",
              "poss          0\n",
              "attendance    0\n",
              "sh            0\n",
              "sot           0\n",
              "formation     0\n",
              "fk            0\n",
              "pk            0\n",
              "pkatt         0\n",
              "season        0\n",
              "date          0\n",
              "team          0\n",
              "result        0\n",
              "dtype: int64"
            ]
          },
          "metadata": {},
          "execution_count": 12
        }
      ]
    },
    {
      "cell_type": "markdown",
      "source": [
        "Encoding categorical columns:\n",
        "\n",
        "'*venue*', '*opponent*', '*formation*', '*team*' and '*resutl*' columns are categorical and must be encoded. We can use the LabelEncoder from the sklearn library for this encoding."
      ],
      "metadata": {
        "id": "6OklsVKRybQ5"
      }
    },
    {
      "cell_type": "code",
      "source": [
        "from sklearn.preprocessing import LabelEncoder\n",
        "\n",
        "le = LabelEncoder()\n",
        "\n",
        "df['venue'] = le.fit_transform(df['venue'])\n",
        "df['opponent'] = le.fit_transform(df['opponent'])\n",
        "df['formation'] = le.fit_transform(df['formation'])\n",
        "df['team'] = le.fit_transform(df['team'])\n",
        "df['result'] = le.fit_transform(df['result'])\n"
      ],
      "metadata": {
        "id": "Zqi3D1pnyaU5"
      },
      "execution_count": 13,
      "outputs": []
    },
    {
      "cell_type": "markdown",
      "source": [
        "Creating new features:\n",
        "\n",
        "creating new columns based on the average values of \"xg\" and \"xga\" for each team. The average \"xg\" and \"xga\" for the team can give us information about the team's overall performance in the past, which can be useful for our model. \n",
        "\n"
      ],
      "metadata": {
        "id": "l3ZRCvG-0w1d"
      }
    },
    {
      "cell_type": "code",
      "source": [
        "# Calculate mean 'xg' and 'xga' for each team\n",
        "mean_xg = df.groupby('team')['xg'].mean()\n",
        "mean_xga = df.groupby('team')['xga'].mean()\n",
        "\n",
        "# Create new features\n",
        "df['mean_team_xg'] = df['team'].map(mean_xg)\n",
        "df['mean_team_xga'] = df['team'].map(mean_xga)\n",
        "\n",
        "# Drop the original 'xg' and 'xga' columns\n",
        "#model learned better with these columns\n",
        "#df = df.drop(columns=['xg', 'xga'])\n"
      ],
      "metadata": {
        "id": "i2l5lQ2h0zWJ"
      },
      "execution_count": 14,
      "outputs": []
    },
    {
      "cell_type": "code",
      "source": [
        "df.head()"
      ],
      "metadata": {
        "colab": {
          "base_uri": "https://localhost:8080/",
          "height": 206
        },
        "id": "Xrpiq2271DfL",
        "outputId": "0f8f61ff-b9fc-4470-fdf6-f2a3d12d3fe3"
      },
      "execution_count": 15,
      "outputs": [
        {
          "output_type": "execute_result",
          "data": {
            "text/plain": [
              "   venue  opponent   xg  xga  poss  attendance    sh   sot  formation   fk  \\\n",
              "1      0         7  3.5  0.3  62.0     12203.0  18.0  12.0          4  1.0   \n",
              "2      1        17  3.2  0.9  59.0     46000.0  18.0   8.0          3  3.0   \n",
              "3      0        11  3.4  1.7  52.0     47526.0  16.0   9.0          4  0.0   \n",
              "4      1        16  2.7  1.2  67.0     46000.0  17.0   4.0          4  0.0   \n",
              "5      0        26  2.8  0.8  62.0     31700.0  20.0  12.0          4  2.0   \n",
              "\n",
              "    pk  pkatt  season        date  team  result  mean_team_xg  mean_team_xga  \n",
              "1  0.0    0.0    2023  2022-08-06    21       2      2.221788       1.059218  \n",
              "2  1.0    2.0    2023  2022-08-13    21       2      2.221788       1.059218  \n",
              "3  0.0    0.0    2023  2022-08-21    21       2      2.221788       1.059218  \n",
              "4  1.0    1.0    2023  2022-08-28    21       0      2.221788       1.059218  \n",
              "5  0.0    0.0    2023  2022-08-31    21       2      2.221788       1.059218  "
            ],
            "text/html": [
              "\n",
              "  <div id=\"df-0dfbdc88-e878-4dd1-91ad-102473589e0a\">\n",
              "    <div class=\"colab-df-container\">\n",
              "      <div>\n",
              "<style scoped>\n",
              "    .dataframe tbody tr th:only-of-type {\n",
              "        vertical-align: middle;\n",
              "    }\n",
              "\n",
              "    .dataframe tbody tr th {\n",
              "        vertical-align: top;\n",
              "    }\n",
              "\n",
              "    .dataframe thead th {\n",
              "        text-align: right;\n",
              "    }\n",
              "</style>\n",
              "<table border=\"1\" class=\"dataframe\">\n",
              "  <thead>\n",
              "    <tr style=\"text-align: right;\">\n",
              "      <th></th>\n",
              "      <th>venue</th>\n",
              "      <th>opponent</th>\n",
              "      <th>xg</th>\n",
              "      <th>xga</th>\n",
              "      <th>poss</th>\n",
              "      <th>attendance</th>\n",
              "      <th>sh</th>\n",
              "      <th>sot</th>\n",
              "      <th>formation</th>\n",
              "      <th>fk</th>\n",
              "      <th>pk</th>\n",
              "      <th>pkatt</th>\n",
              "      <th>season</th>\n",
              "      <th>date</th>\n",
              "      <th>team</th>\n",
              "      <th>result</th>\n",
              "      <th>mean_team_xg</th>\n",
              "      <th>mean_team_xga</th>\n",
              "    </tr>\n",
              "  </thead>\n",
              "  <tbody>\n",
              "    <tr>\n",
              "      <th>1</th>\n",
              "      <td>0</td>\n",
              "      <td>7</td>\n",
              "      <td>3.5</td>\n",
              "      <td>0.3</td>\n",
              "      <td>62.0</td>\n",
              "      <td>12203.0</td>\n",
              "      <td>18.0</td>\n",
              "      <td>12.0</td>\n",
              "      <td>4</td>\n",
              "      <td>1.0</td>\n",
              "      <td>0.0</td>\n",
              "      <td>0.0</td>\n",
              "      <td>2023</td>\n",
              "      <td>2022-08-06</td>\n",
              "      <td>21</td>\n",
              "      <td>2</td>\n",
              "      <td>2.221788</td>\n",
              "      <td>1.059218</td>\n",
              "    </tr>\n",
              "    <tr>\n",
              "      <th>2</th>\n",
              "      <td>1</td>\n",
              "      <td>17</td>\n",
              "      <td>3.2</td>\n",
              "      <td>0.9</td>\n",
              "      <td>59.0</td>\n",
              "      <td>46000.0</td>\n",
              "      <td>18.0</td>\n",
              "      <td>8.0</td>\n",
              "      <td>3</td>\n",
              "      <td>3.0</td>\n",
              "      <td>1.0</td>\n",
              "      <td>2.0</td>\n",
              "      <td>2023</td>\n",
              "      <td>2022-08-13</td>\n",
              "      <td>21</td>\n",
              "      <td>2</td>\n",
              "      <td>2.221788</td>\n",
              "      <td>1.059218</td>\n",
              "    </tr>\n",
              "    <tr>\n",
              "      <th>3</th>\n",
              "      <td>0</td>\n",
              "      <td>11</td>\n",
              "      <td>3.4</td>\n",
              "      <td>1.7</td>\n",
              "      <td>52.0</td>\n",
              "      <td>47526.0</td>\n",
              "      <td>16.0</td>\n",
              "      <td>9.0</td>\n",
              "      <td>4</td>\n",
              "      <td>0.0</td>\n",
              "      <td>0.0</td>\n",
              "      <td>0.0</td>\n",
              "      <td>2023</td>\n",
              "      <td>2022-08-21</td>\n",
              "      <td>21</td>\n",
              "      <td>2</td>\n",
              "      <td>2.221788</td>\n",
              "      <td>1.059218</td>\n",
              "    </tr>\n",
              "    <tr>\n",
              "      <th>4</th>\n",
              "      <td>1</td>\n",
              "      <td>16</td>\n",
              "      <td>2.7</td>\n",
              "      <td>1.2</td>\n",
              "      <td>67.0</td>\n",
              "      <td>46000.0</td>\n",
              "      <td>17.0</td>\n",
              "      <td>4.0</td>\n",
              "      <td>4</td>\n",
              "      <td>0.0</td>\n",
              "      <td>1.0</td>\n",
              "      <td>1.0</td>\n",
              "      <td>2023</td>\n",
              "      <td>2022-08-28</td>\n",
              "      <td>21</td>\n",
              "      <td>0</td>\n",
              "      <td>2.221788</td>\n",
              "      <td>1.059218</td>\n",
              "    </tr>\n",
              "    <tr>\n",
              "      <th>5</th>\n",
              "      <td>0</td>\n",
              "      <td>26</td>\n",
              "      <td>2.8</td>\n",
              "      <td>0.8</td>\n",
              "      <td>62.0</td>\n",
              "      <td>31700.0</td>\n",
              "      <td>20.0</td>\n",
              "      <td>12.0</td>\n",
              "      <td>4</td>\n",
              "      <td>2.0</td>\n",
              "      <td>0.0</td>\n",
              "      <td>0.0</td>\n",
              "      <td>2023</td>\n",
              "      <td>2022-08-31</td>\n",
              "      <td>21</td>\n",
              "      <td>2</td>\n",
              "      <td>2.221788</td>\n",
              "      <td>1.059218</td>\n",
              "    </tr>\n",
              "  </tbody>\n",
              "</table>\n",
              "</div>\n",
              "      <button class=\"colab-df-convert\" onclick=\"convertToInteractive('df-0dfbdc88-e878-4dd1-91ad-102473589e0a')\"\n",
              "              title=\"Convert this dataframe to an interactive table.\"\n",
              "              style=\"display:none;\">\n",
              "        \n",
              "  <svg xmlns=\"http://www.w3.org/2000/svg\" height=\"24px\"viewBox=\"0 0 24 24\"\n",
              "       width=\"24px\">\n",
              "    <path d=\"M0 0h24v24H0V0z\" fill=\"none\"/>\n",
              "    <path d=\"M18.56 5.44l.94 2.06.94-2.06 2.06-.94-2.06-.94-.94-2.06-.94 2.06-2.06.94zm-11 1L8.5 8.5l.94-2.06 2.06-.94-2.06-.94L8.5 2.5l-.94 2.06-2.06.94zm10 10l.94 2.06.94-2.06 2.06-.94-2.06-.94-.94-2.06-.94 2.06-2.06.94z\"/><path d=\"M17.41 7.96l-1.37-1.37c-.4-.4-.92-.59-1.43-.59-.52 0-1.04.2-1.43.59L10.3 9.45l-7.72 7.72c-.78.78-.78 2.05 0 2.83L4 21.41c.39.39.9.59 1.41.59.51 0 1.02-.2 1.41-.59l7.78-7.78 2.81-2.81c.8-.78.8-2.07 0-2.86zM5.41 20L4 18.59l7.72-7.72 1.47 1.35L5.41 20z\"/>\n",
              "  </svg>\n",
              "      </button>\n",
              "      \n",
              "  <style>\n",
              "    .colab-df-container {\n",
              "      display:flex;\n",
              "      flex-wrap:wrap;\n",
              "      gap: 12px;\n",
              "    }\n",
              "\n",
              "    .colab-df-convert {\n",
              "      background-color: #E8F0FE;\n",
              "      border: none;\n",
              "      border-radius: 50%;\n",
              "      cursor: pointer;\n",
              "      display: none;\n",
              "      fill: #1967D2;\n",
              "      height: 32px;\n",
              "      padding: 0 0 0 0;\n",
              "      width: 32px;\n",
              "    }\n",
              "\n",
              "    .colab-df-convert:hover {\n",
              "      background-color: #E2EBFA;\n",
              "      box-shadow: 0px 1px 2px rgba(60, 64, 67, 0.3), 0px 1px 3px 1px rgba(60, 64, 67, 0.15);\n",
              "      fill: #174EA6;\n",
              "    }\n",
              "\n",
              "    [theme=dark] .colab-df-convert {\n",
              "      background-color: #3B4455;\n",
              "      fill: #D2E3FC;\n",
              "    }\n",
              "\n",
              "    [theme=dark] .colab-df-convert:hover {\n",
              "      background-color: #434B5C;\n",
              "      box-shadow: 0px 1px 3px 1px rgba(0, 0, 0, 0.15);\n",
              "      filter: drop-shadow(0px 1px 2px rgba(0, 0, 0, 0.3));\n",
              "      fill: #FFFFFF;\n",
              "    }\n",
              "  </style>\n",
              "\n",
              "      <script>\n",
              "        const buttonEl =\n",
              "          document.querySelector('#df-0dfbdc88-e878-4dd1-91ad-102473589e0a button.colab-df-convert');\n",
              "        buttonEl.style.display =\n",
              "          google.colab.kernel.accessAllowed ? 'block' : 'none';\n",
              "\n",
              "        async function convertToInteractive(key) {\n",
              "          const element = document.querySelector('#df-0dfbdc88-e878-4dd1-91ad-102473589e0a');\n",
              "          const dataTable =\n",
              "            await google.colab.kernel.invokeFunction('convertToInteractive',\n",
              "                                                     [key], {});\n",
              "          if (!dataTable) return;\n",
              "\n",
              "          const docLinkHtml = 'Like what you see? Visit the ' +\n",
              "            '<a target=\"_blank\" href=https://colab.research.google.com/notebooks/data_table.ipynb>data table notebook</a>'\n",
              "            + ' to learn more about interactive tables.';\n",
              "          element.innerHTML = '';\n",
              "          dataTable['output_type'] = 'display_data';\n",
              "          await google.colab.output.renderOutput(dataTable, element);\n",
              "          const docLink = document.createElement('div');\n",
              "          docLink.innerHTML = docLinkHtml;\n",
              "          element.appendChild(docLink);\n",
              "        }\n",
              "      </script>\n",
              "    </div>\n",
              "  </div>\n",
              "  "
            ]
          },
          "metadata": {},
          "execution_count": 15
        }
      ]
    },
    {
      "cell_type": "code",
      "source": [
        "df.columns"
      ],
      "metadata": {
        "colab": {
          "base_uri": "https://localhost:8080/"
        },
        "id": "NHyHTLa65nzb",
        "outputId": "ac456720-905f-424c-ab68-293ef680ab78"
      },
      "execution_count": 16,
      "outputs": [
        {
          "output_type": "execute_result",
          "data": {
            "text/plain": [
              "Index(['venue', 'opponent', 'xg', 'xga', 'poss', 'attendance', 'sh', 'sot',\n",
              "       'formation', 'fk', 'pk', 'pkatt', 'season', 'date', 'team', 'result',\n",
              "       'mean_team_xg', 'mean_team_xga'],\n",
              "      dtype='object')"
            ]
          },
          "metadata": {},
          "execution_count": 16
        }
      ]
    },
    {
      "cell_type": "markdown",
      "source": [
        "Change the date format to a Pandas date:"
      ],
      "metadata": {
        "id": "tHvr0k61yiRR"
      }
    },
    {
      "cell_type": "code",
      "source": [
        "df['date'] = pd.to_datetime(df['date'])"
      ],
      "metadata": {
        "id": "AekroQTVyf35"
      },
      "execution_count": 17,
      "outputs": []
    },
    {
      "cell_type": "code",
      "source": [
        "df.head()"
      ],
      "metadata": {
        "colab": {
          "base_uri": "https://localhost:8080/",
          "height": 206
        },
        "id": "vXhpK-M6ykR5",
        "outputId": "b188935b-aacd-43c5-f13d-769b8709932b"
      },
      "execution_count": 18,
      "outputs": [
        {
          "output_type": "execute_result",
          "data": {
            "text/plain": [
              "   venue  opponent   xg  xga  poss  attendance    sh   sot  formation   fk  \\\n",
              "1      0         7  3.5  0.3  62.0     12203.0  18.0  12.0          4  1.0   \n",
              "2      1        17  3.2  0.9  59.0     46000.0  18.0   8.0          3  3.0   \n",
              "3      0        11  3.4  1.7  52.0     47526.0  16.0   9.0          4  0.0   \n",
              "4      1        16  2.7  1.2  67.0     46000.0  17.0   4.0          4  0.0   \n",
              "5      0        26  2.8  0.8  62.0     31700.0  20.0  12.0          4  2.0   \n",
              "\n",
              "    pk  pkatt  season       date  team  result  mean_team_xg  mean_team_xga  \n",
              "1  0.0    0.0    2023 2022-08-06    21       2      2.221788       1.059218  \n",
              "2  1.0    2.0    2023 2022-08-13    21       2      2.221788       1.059218  \n",
              "3  0.0    0.0    2023 2022-08-21    21       2      2.221788       1.059218  \n",
              "4  1.0    1.0    2023 2022-08-28    21       0      2.221788       1.059218  \n",
              "5  0.0    0.0    2023 2022-08-31    21       2      2.221788       1.059218  "
            ],
            "text/html": [
              "\n",
              "  <div id=\"df-2408545a-9072-4bc7-9dee-1a8704096895\">\n",
              "    <div class=\"colab-df-container\">\n",
              "      <div>\n",
              "<style scoped>\n",
              "    .dataframe tbody tr th:only-of-type {\n",
              "        vertical-align: middle;\n",
              "    }\n",
              "\n",
              "    .dataframe tbody tr th {\n",
              "        vertical-align: top;\n",
              "    }\n",
              "\n",
              "    .dataframe thead th {\n",
              "        text-align: right;\n",
              "    }\n",
              "</style>\n",
              "<table border=\"1\" class=\"dataframe\">\n",
              "  <thead>\n",
              "    <tr style=\"text-align: right;\">\n",
              "      <th></th>\n",
              "      <th>venue</th>\n",
              "      <th>opponent</th>\n",
              "      <th>xg</th>\n",
              "      <th>xga</th>\n",
              "      <th>poss</th>\n",
              "      <th>attendance</th>\n",
              "      <th>sh</th>\n",
              "      <th>sot</th>\n",
              "      <th>formation</th>\n",
              "      <th>fk</th>\n",
              "      <th>pk</th>\n",
              "      <th>pkatt</th>\n",
              "      <th>season</th>\n",
              "      <th>date</th>\n",
              "      <th>team</th>\n",
              "      <th>result</th>\n",
              "      <th>mean_team_xg</th>\n",
              "      <th>mean_team_xga</th>\n",
              "    </tr>\n",
              "  </thead>\n",
              "  <tbody>\n",
              "    <tr>\n",
              "      <th>1</th>\n",
              "      <td>0</td>\n",
              "      <td>7</td>\n",
              "      <td>3.5</td>\n",
              "      <td>0.3</td>\n",
              "      <td>62.0</td>\n",
              "      <td>12203.0</td>\n",
              "      <td>18.0</td>\n",
              "      <td>12.0</td>\n",
              "      <td>4</td>\n",
              "      <td>1.0</td>\n",
              "      <td>0.0</td>\n",
              "      <td>0.0</td>\n",
              "      <td>2023</td>\n",
              "      <td>2022-08-06</td>\n",
              "      <td>21</td>\n",
              "      <td>2</td>\n",
              "      <td>2.221788</td>\n",
              "      <td>1.059218</td>\n",
              "    </tr>\n",
              "    <tr>\n",
              "      <th>2</th>\n",
              "      <td>1</td>\n",
              "      <td>17</td>\n",
              "      <td>3.2</td>\n",
              "      <td>0.9</td>\n",
              "      <td>59.0</td>\n",
              "      <td>46000.0</td>\n",
              "      <td>18.0</td>\n",
              "      <td>8.0</td>\n",
              "      <td>3</td>\n",
              "      <td>3.0</td>\n",
              "      <td>1.0</td>\n",
              "      <td>2.0</td>\n",
              "      <td>2023</td>\n",
              "      <td>2022-08-13</td>\n",
              "      <td>21</td>\n",
              "      <td>2</td>\n",
              "      <td>2.221788</td>\n",
              "      <td>1.059218</td>\n",
              "    </tr>\n",
              "    <tr>\n",
              "      <th>3</th>\n",
              "      <td>0</td>\n",
              "      <td>11</td>\n",
              "      <td>3.4</td>\n",
              "      <td>1.7</td>\n",
              "      <td>52.0</td>\n",
              "      <td>47526.0</td>\n",
              "      <td>16.0</td>\n",
              "      <td>9.0</td>\n",
              "      <td>4</td>\n",
              "      <td>0.0</td>\n",
              "      <td>0.0</td>\n",
              "      <td>0.0</td>\n",
              "      <td>2023</td>\n",
              "      <td>2022-08-21</td>\n",
              "      <td>21</td>\n",
              "      <td>2</td>\n",
              "      <td>2.221788</td>\n",
              "      <td>1.059218</td>\n",
              "    </tr>\n",
              "    <tr>\n",
              "      <th>4</th>\n",
              "      <td>1</td>\n",
              "      <td>16</td>\n",
              "      <td>2.7</td>\n",
              "      <td>1.2</td>\n",
              "      <td>67.0</td>\n",
              "      <td>46000.0</td>\n",
              "      <td>17.0</td>\n",
              "      <td>4.0</td>\n",
              "      <td>4</td>\n",
              "      <td>0.0</td>\n",
              "      <td>1.0</td>\n",
              "      <td>1.0</td>\n",
              "      <td>2023</td>\n",
              "      <td>2022-08-28</td>\n",
              "      <td>21</td>\n",
              "      <td>0</td>\n",
              "      <td>2.221788</td>\n",
              "      <td>1.059218</td>\n",
              "    </tr>\n",
              "    <tr>\n",
              "      <th>5</th>\n",
              "      <td>0</td>\n",
              "      <td>26</td>\n",
              "      <td>2.8</td>\n",
              "      <td>0.8</td>\n",
              "      <td>62.0</td>\n",
              "      <td>31700.0</td>\n",
              "      <td>20.0</td>\n",
              "      <td>12.0</td>\n",
              "      <td>4</td>\n",
              "      <td>2.0</td>\n",
              "      <td>0.0</td>\n",
              "      <td>0.0</td>\n",
              "      <td>2023</td>\n",
              "      <td>2022-08-31</td>\n",
              "      <td>21</td>\n",
              "      <td>2</td>\n",
              "      <td>2.221788</td>\n",
              "      <td>1.059218</td>\n",
              "    </tr>\n",
              "  </tbody>\n",
              "</table>\n",
              "</div>\n",
              "      <button class=\"colab-df-convert\" onclick=\"convertToInteractive('df-2408545a-9072-4bc7-9dee-1a8704096895')\"\n",
              "              title=\"Convert this dataframe to an interactive table.\"\n",
              "              style=\"display:none;\">\n",
              "        \n",
              "  <svg xmlns=\"http://www.w3.org/2000/svg\" height=\"24px\"viewBox=\"0 0 24 24\"\n",
              "       width=\"24px\">\n",
              "    <path d=\"M0 0h24v24H0V0z\" fill=\"none\"/>\n",
              "    <path d=\"M18.56 5.44l.94 2.06.94-2.06 2.06-.94-2.06-.94-.94-2.06-.94 2.06-2.06.94zm-11 1L8.5 8.5l.94-2.06 2.06-.94-2.06-.94L8.5 2.5l-.94 2.06-2.06.94zm10 10l.94 2.06.94-2.06 2.06-.94-2.06-.94-.94-2.06-.94 2.06-2.06.94z\"/><path d=\"M17.41 7.96l-1.37-1.37c-.4-.4-.92-.59-1.43-.59-.52 0-1.04.2-1.43.59L10.3 9.45l-7.72 7.72c-.78.78-.78 2.05 0 2.83L4 21.41c.39.39.9.59 1.41.59.51 0 1.02-.2 1.41-.59l7.78-7.78 2.81-2.81c.8-.78.8-2.07 0-2.86zM5.41 20L4 18.59l7.72-7.72 1.47 1.35L5.41 20z\"/>\n",
              "  </svg>\n",
              "      </button>\n",
              "      \n",
              "  <style>\n",
              "    .colab-df-container {\n",
              "      display:flex;\n",
              "      flex-wrap:wrap;\n",
              "      gap: 12px;\n",
              "    }\n",
              "\n",
              "    .colab-df-convert {\n",
              "      background-color: #E8F0FE;\n",
              "      border: none;\n",
              "      border-radius: 50%;\n",
              "      cursor: pointer;\n",
              "      display: none;\n",
              "      fill: #1967D2;\n",
              "      height: 32px;\n",
              "      padding: 0 0 0 0;\n",
              "      width: 32px;\n",
              "    }\n",
              "\n",
              "    .colab-df-convert:hover {\n",
              "      background-color: #E2EBFA;\n",
              "      box-shadow: 0px 1px 2px rgba(60, 64, 67, 0.3), 0px 1px 3px 1px rgba(60, 64, 67, 0.15);\n",
              "      fill: #174EA6;\n",
              "    }\n",
              "\n",
              "    [theme=dark] .colab-df-convert {\n",
              "      background-color: #3B4455;\n",
              "      fill: #D2E3FC;\n",
              "    }\n",
              "\n",
              "    [theme=dark] .colab-df-convert:hover {\n",
              "      background-color: #434B5C;\n",
              "      box-shadow: 0px 1px 3px 1px rgba(0, 0, 0, 0.15);\n",
              "      filter: drop-shadow(0px 1px 2px rgba(0, 0, 0, 0.3));\n",
              "      fill: #FFFFFF;\n",
              "    }\n",
              "  </style>\n",
              "\n",
              "      <script>\n",
              "        const buttonEl =\n",
              "          document.querySelector('#df-2408545a-9072-4bc7-9dee-1a8704096895 button.colab-df-convert');\n",
              "        buttonEl.style.display =\n",
              "          google.colab.kernel.accessAllowed ? 'block' : 'none';\n",
              "\n",
              "        async function convertToInteractive(key) {\n",
              "          const element = document.querySelector('#df-2408545a-9072-4bc7-9dee-1a8704096895');\n",
              "          const dataTable =\n",
              "            await google.colab.kernel.invokeFunction('convertToInteractive',\n",
              "                                                     [key], {});\n",
              "          if (!dataTable) return;\n",
              "\n",
              "          const docLinkHtml = 'Like what you see? Visit the ' +\n",
              "            '<a target=\"_blank\" href=https://colab.research.google.com/notebooks/data_table.ipynb>data table notebook</a>'\n",
              "            + ' to learn more about interactive tables.';\n",
              "          element.innerHTML = '';\n",
              "          dataTable['output_type'] = 'display_data';\n",
              "          await google.colab.output.renderOutput(dataTable, element);\n",
              "          const docLink = document.createElement('div');\n",
              "          docLink.innerHTML = docLinkHtml;\n",
              "          element.appendChild(docLink);\n",
              "        }\n",
              "      </script>\n",
              "    </div>\n",
              "  </div>\n",
              "  "
            ]
          },
          "metadata": {},
          "execution_count": 18
        }
      ]
    },
    {
      "cell_type": "markdown",
      "source": [
        "In the first step of this project, the Random Forest model was used as a starting point for predicting match results.\n",
        "\n",
        "\n",
        "\n",
        "---\n",
        "\n",
        "Data up to August 5, 2022 were used as training data, and data after that date (the last 2022/2022 season) as test data."
      ],
      "metadata": {
        "id": "ewOWqvQay5Fh"
      }
    },
    {
      "cell_type": "code",
      "source": [
        "train = df[df[\"date\"] < '2022-08-05']\n",
        "test = df[df[\"date\"] >= '2022-08-05']\n"
      ],
      "metadata": {
        "id": "2L-aycHLy7vY"
      },
      "execution_count": 19,
      "outputs": []
    },
    {
      "cell_type": "markdown",
      "source": [
        "Then it was decided what the goal would be (i.e. what we want to predict). We want to predict the outcome of the match (that is, the \"result\" column)."
      ],
      "metadata": {
        "id": "x-dnjGP8zAKx"
      }
    },
    {
      "cell_type": "code",
      "source": [
        "y_train = train[\"result\"]\n",
        "X_train = train.drop(\"result\", axis=1)\n",
        "\n",
        "y_test = test[\"result\"]\n",
        "X_test = test.drop(\"result\", axis=1)\n"
      ],
      "metadata": {
        "id": "pl6x7iOXy9ER"
      },
      "execution_count": 20,
      "outputs": []
    },
    {
      "cell_type": "code",
      "source": [
        "from sklearn.ensemble import RandomForestClassifier\n",
        "\n",
        "rf = RandomForestClassifier(n_estimators=50, min_samples_split=10, random_state=1)\n",
        "rf.fit(X_train, y_train)\n"
      ],
      "metadata": {
        "colab": {
          "base_uri": "https://localhost:8080/",
          "height": 338
        },
        "id": "oob9Wk04zvEa",
        "outputId": "2e100eae-0df0-4ee4-e1a6-7fedb0814f93"
      },
      "execution_count": 96,
      "outputs": [
        {
          "output_type": "error",
          "ename": "TypeError",
          "evalue": "ignored",
          "traceback": [
            "\u001b[0;31m---------------------------------------------------------------------------\u001b[0m",
            "\u001b[0;31mTypeError\u001b[0m                                 Traceback (most recent call last)",
            "\u001b[0;32m<ipython-input-96-ba65b9a75f95>\u001b[0m in \u001b[0;36m<cell line: 4>\u001b[0;34m()\u001b[0m\n\u001b[1;32m      2\u001b[0m \u001b[0;34m\u001b[0m\u001b[0m\n\u001b[1;32m      3\u001b[0m \u001b[0mrf\u001b[0m \u001b[0;34m=\u001b[0m \u001b[0mRandomForestClassifier\u001b[0m\u001b[0;34m(\u001b[0m\u001b[0mn_estimators\u001b[0m\u001b[0;34m=\u001b[0m\u001b[0;36m50\u001b[0m\u001b[0;34m,\u001b[0m \u001b[0mmin_samples_split\u001b[0m\u001b[0;34m=\u001b[0m\u001b[0;36m10\u001b[0m\u001b[0;34m,\u001b[0m \u001b[0mrandom_state\u001b[0m\u001b[0;34m=\u001b[0m\u001b[0;36m1\u001b[0m\u001b[0;34m)\u001b[0m\u001b[0;34m\u001b[0m\u001b[0;34m\u001b[0m\u001b[0m\n\u001b[0;32m----> 4\u001b[0;31m \u001b[0mrf\u001b[0m\u001b[0;34m.\u001b[0m\u001b[0mfit\u001b[0m\u001b[0;34m(\u001b[0m\u001b[0mX_train\u001b[0m\u001b[0;34m,\u001b[0m \u001b[0my_train\u001b[0m\u001b[0;34m)\u001b[0m\u001b[0;34m\u001b[0m\u001b[0;34m\u001b[0m\u001b[0m\n\u001b[0m",
            "\u001b[0;32m/usr/local/lib/python3.10/dist-packages/sklearn/ensemble/_forest.py\u001b[0m in \u001b[0;36mfit\u001b[0;34m(self, X, y, sample_weight)\u001b[0m\n\u001b[1;32m    343\u001b[0m         \u001b[0;32mif\u001b[0m \u001b[0missparse\u001b[0m\u001b[0;34m(\u001b[0m\u001b[0my\u001b[0m\u001b[0;34m)\u001b[0m\u001b[0;34m:\u001b[0m\u001b[0;34m\u001b[0m\u001b[0;34m\u001b[0m\u001b[0m\n\u001b[1;32m    344\u001b[0m             \u001b[0;32mraise\u001b[0m \u001b[0mValueError\u001b[0m\u001b[0;34m(\u001b[0m\u001b[0;34m\"sparse multilabel-indicator for y is not supported.\"\u001b[0m\u001b[0;34m)\u001b[0m\u001b[0;34m\u001b[0m\u001b[0;34m\u001b[0m\u001b[0m\n\u001b[0;32m--> 345\u001b[0;31m         X, y = self._validate_data(\n\u001b[0m\u001b[1;32m    346\u001b[0m             \u001b[0mX\u001b[0m\u001b[0;34m,\u001b[0m \u001b[0my\u001b[0m\u001b[0;34m,\u001b[0m \u001b[0mmulti_output\u001b[0m\u001b[0;34m=\u001b[0m\u001b[0;32mTrue\u001b[0m\u001b[0;34m,\u001b[0m \u001b[0maccept_sparse\u001b[0m\u001b[0;34m=\u001b[0m\u001b[0;34m\"csc\"\u001b[0m\u001b[0;34m,\u001b[0m \u001b[0mdtype\u001b[0m\u001b[0;34m=\u001b[0m\u001b[0mDTYPE\u001b[0m\u001b[0;34m\u001b[0m\u001b[0;34m\u001b[0m\u001b[0m\n\u001b[1;32m    347\u001b[0m         )\n",
            "\u001b[0;32m/usr/local/lib/python3.10/dist-packages/sklearn/base.py\u001b[0m in \u001b[0;36m_validate_data\u001b[0;34m(self, X, y, reset, validate_separately, **check_params)\u001b[0m\n\u001b[1;32m    582\u001b[0m                 \u001b[0my\u001b[0m \u001b[0;34m=\u001b[0m \u001b[0mcheck_array\u001b[0m\u001b[0;34m(\u001b[0m\u001b[0my\u001b[0m\u001b[0;34m,\u001b[0m \u001b[0minput_name\u001b[0m\u001b[0;34m=\u001b[0m\u001b[0;34m\"y\"\u001b[0m\u001b[0;34m,\u001b[0m \u001b[0;34m**\u001b[0m\u001b[0mcheck_y_params\u001b[0m\u001b[0;34m)\u001b[0m\u001b[0;34m\u001b[0m\u001b[0;34m\u001b[0m\u001b[0m\n\u001b[1;32m    583\u001b[0m             \u001b[0;32melse\u001b[0m\u001b[0;34m:\u001b[0m\u001b[0;34m\u001b[0m\u001b[0;34m\u001b[0m\u001b[0m\n\u001b[0;32m--> 584\u001b[0;31m                 \u001b[0mX\u001b[0m\u001b[0;34m,\u001b[0m \u001b[0my\u001b[0m \u001b[0;34m=\u001b[0m \u001b[0mcheck_X_y\u001b[0m\u001b[0;34m(\u001b[0m\u001b[0mX\u001b[0m\u001b[0;34m,\u001b[0m \u001b[0my\u001b[0m\u001b[0;34m,\u001b[0m \u001b[0;34m**\u001b[0m\u001b[0mcheck_params\u001b[0m\u001b[0;34m)\u001b[0m\u001b[0;34m\u001b[0m\u001b[0;34m\u001b[0m\u001b[0m\n\u001b[0m\u001b[1;32m    585\u001b[0m             \u001b[0mout\u001b[0m \u001b[0;34m=\u001b[0m \u001b[0mX\u001b[0m\u001b[0;34m,\u001b[0m \u001b[0my\u001b[0m\u001b[0;34m\u001b[0m\u001b[0;34m\u001b[0m\u001b[0m\n\u001b[1;32m    586\u001b[0m \u001b[0;34m\u001b[0m\u001b[0m\n",
            "\u001b[0;32m/usr/local/lib/python3.10/dist-packages/sklearn/utils/validation.py\u001b[0m in \u001b[0;36mcheck_X_y\u001b[0;34m(X, y, accept_sparse, accept_large_sparse, dtype, order, copy, force_all_finite, ensure_2d, allow_nd, multi_output, ensure_min_samples, ensure_min_features, y_numeric, estimator)\u001b[0m\n\u001b[1;32m   1104\u001b[0m         )\n\u001b[1;32m   1105\u001b[0m \u001b[0;34m\u001b[0m\u001b[0m\n\u001b[0;32m-> 1106\u001b[0;31m     X = check_array(\n\u001b[0m\u001b[1;32m   1107\u001b[0m         \u001b[0mX\u001b[0m\u001b[0;34m,\u001b[0m\u001b[0;34m\u001b[0m\u001b[0;34m\u001b[0m\u001b[0m\n\u001b[1;32m   1108\u001b[0m         \u001b[0maccept_sparse\u001b[0m\u001b[0;34m=\u001b[0m\u001b[0maccept_sparse\u001b[0m\u001b[0;34m,\u001b[0m\u001b[0;34m\u001b[0m\u001b[0;34m\u001b[0m\u001b[0m\n",
            "\u001b[0;32m/usr/local/lib/python3.10/dist-packages/sklearn/utils/validation.py\u001b[0m in \u001b[0;36mcheck_array\u001b[0;34m(array, accept_sparse, accept_large_sparse, dtype, order, copy, force_all_finite, ensure_2d, allow_nd, ensure_min_samples, ensure_min_features, estimator, input_name)\u001b[0m\n\u001b[1;32m    776\u001b[0m         )\n\u001b[1;32m    777\u001b[0m         \u001b[0;32mif\u001b[0m \u001b[0mall\u001b[0m\u001b[0;34m(\u001b[0m\u001b[0misinstance\u001b[0m\u001b[0;34m(\u001b[0m\u001b[0mdtype_iter\u001b[0m\u001b[0;34m,\u001b[0m \u001b[0mnp\u001b[0m\u001b[0;34m.\u001b[0m\u001b[0mdtype\u001b[0m\u001b[0;34m)\u001b[0m \u001b[0;32mfor\u001b[0m \u001b[0mdtype_iter\u001b[0m \u001b[0;32min\u001b[0m \u001b[0mdtypes_orig\u001b[0m\u001b[0;34m)\u001b[0m\u001b[0;34m:\u001b[0m\u001b[0;34m\u001b[0m\u001b[0;34m\u001b[0m\u001b[0m\n\u001b[0;32m--> 778\u001b[0;31m             \u001b[0mdtype_orig\u001b[0m \u001b[0;34m=\u001b[0m \u001b[0mnp\u001b[0m\u001b[0;34m.\u001b[0m\u001b[0mresult_type\u001b[0m\u001b[0;34m(\u001b[0m\u001b[0;34m*\u001b[0m\u001b[0mdtypes_orig\u001b[0m\u001b[0;34m)\u001b[0m\u001b[0;34m\u001b[0m\u001b[0;34m\u001b[0m\u001b[0m\n\u001b[0m\u001b[1;32m    779\u001b[0m \u001b[0;34m\u001b[0m\u001b[0m\n\u001b[1;32m    780\u001b[0m     \u001b[0;32melif\u001b[0m \u001b[0mhasattr\u001b[0m\u001b[0;34m(\u001b[0m\u001b[0marray\u001b[0m\u001b[0;34m,\u001b[0m \u001b[0;34m\"iloc\"\u001b[0m\u001b[0;34m)\u001b[0m \u001b[0;32mand\u001b[0m \u001b[0mhasattr\u001b[0m\u001b[0;34m(\u001b[0m\u001b[0marray\u001b[0m\u001b[0;34m,\u001b[0m \u001b[0;34m\"dtype\"\u001b[0m\u001b[0;34m)\u001b[0m\u001b[0;34m:\u001b[0m\u001b[0;34m\u001b[0m\u001b[0;34m\u001b[0m\u001b[0m\n",
            "\u001b[0;32m/usr/local/lib/python3.10/dist-packages/numpy/core/overrides.py\u001b[0m in \u001b[0;36mresult_type\u001b[0;34m(*args, **kwargs)\u001b[0m\n",
            "\u001b[0;31mTypeError\u001b[0m: The DType <class 'numpy.dtype[datetime64]'> could not be promoted by <class 'numpy.dtype[float64]'>. This means that no common DType exists for the given inputs. For example they cannot be stored in a single array unless the dtype is `object`. The full list of DTypes is: (<class 'numpy.dtype[int64]'>, <class 'numpy.dtype[int64]'>, <class 'numpy.dtype[float64]'>, <class 'numpy.dtype[float64]'>, <class 'numpy.dtype[float64]'>, <class 'numpy.dtype[float64]'>, <class 'numpy.dtype[int64]'>, <class 'numpy.dtype[float64]'>, <class 'numpy.dtype[float64]'>, <class 'numpy.dtype[float64]'>, <class 'numpy.dtype[int64]'>, <class 'numpy.dtype[datetime64]'>, <class 'numpy.dtype[int64]'>, <class 'numpy.dtype[float64]'>, <class 'numpy.dtype[float64]'>)"
          ]
        }
      ]
    },
    {
      "cell_type": "markdown",
      "source": [
        "You can convert a date to numerical characteristics such as year, month, day of the month, day of the week, etc. Depending on the context, different aspects of the date may be important. In the context of predicting the results of matches, the day of the week, the month and maybe even the year can be important."
      ],
      "metadata": {
        "id": "WwsnP0G7mDap"
      }
    },
    {
      "cell_type": "code",
      "source": [
        "#Convert 'date' column to datetime type\n",
        "X_train['date'] = pd.to_datetime(X_train['date'])\n",
        "X_test['date'] = pd.to_datetime(X_test['date'])\n",
        "\n",
        "#Extract features from the date\n",
        "X_train['year'] = X_train['date'].dt.year\n",
        "X_train['month'] = X_train['date'].dt.month\n",
        "X_train['day'] = X_train['date'].dt.day\n",
        "X_train['dayofweek'] = X_train['date'].dt.dayofweek\n",
        "\n",
        "X_test['year'] = X_test['date'].dt.year\n",
        "X_test['month'] = X_test['date'].dt.month\n",
        "X_test['day'] = X_test['date'].dt.day\n",
        "X_test['dayofweek'] = X_test['date'].dt.dayofweek\n",
        "\n",
        "#Drop the original 'date' column\n",
        "X_train = X_train.drop('date', axis=1)\n",
        "X_test = X_test.drop('date', axis=1)\n"
      ],
      "metadata": {
        "id": "XXWFoWOG0Kea"
      },
      "execution_count": 21,
      "outputs": []
    },
    {
      "cell_type": "markdown",
      "source": [
        "Random Forest model is created and trained on the training data."
      ],
      "metadata": {
        "id": "LZTW-3F3mT7F"
      }
    },
    {
      "cell_type": "code",
      "source": [
        "from sklearn.ensemble import RandomForestClassifier\n",
        "\n",
        "rf = RandomForestClassifier(n_estimators=100, min_samples_split=10, random_state=1)\n",
        "rf.fit(X_train, y_train)\n"
      ],
      "metadata": {
        "colab": {
          "base_uri": "https://localhost:8080/",
          "height": 74
        },
        "id": "YmuG0Pm00MIS",
        "outputId": "30dd9eb5-774c-435a-800f-5d222719dd6e"
      },
      "execution_count": 22,
      "outputs": [
        {
          "output_type": "execute_result",
          "data": {
            "text/plain": [
              "RandomForestClassifier(min_samples_split=10, random_state=1)"
            ],
            "text/html": [
              "<style>#sk-container-id-1 {color: black;background-color: white;}#sk-container-id-1 pre{padding: 0;}#sk-container-id-1 div.sk-toggleable {background-color: white;}#sk-container-id-1 label.sk-toggleable__label {cursor: pointer;display: block;width: 100%;margin-bottom: 0;padding: 0.3em;box-sizing: border-box;text-align: center;}#sk-container-id-1 label.sk-toggleable__label-arrow:before {content: \"▸\";float: left;margin-right: 0.25em;color: #696969;}#sk-container-id-1 label.sk-toggleable__label-arrow:hover:before {color: black;}#sk-container-id-1 div.sk-estimator:hover label.sk-toggleable__label-arrow:before {color: black;}#sk-container-id-1 div.sk-toggleable__content {max-height: 0;max-width: 0;overflow: hidden;text-align: left;background-color: #f0f8ff;}#sk-container-id-1 div.sk-toggleable__content pre {margin: 0.2em;color: black;border-radius: 0.25em;background-color: #f0f8ff;}#sk-container-id-1 input.sk-toggleable__control:checked~div.sk-toggleable__content {max-height: 200px;max-width: 100%;overflow: auto;}#sk-container-id-1 input.sk-toggleable__control:checked~label.sk-toggleable__label-arrow:before {content: \"▾\";}#sk-container-id-1 div.sk-estimator input.sk-toggleable__control:checked~label.sk-toggleable__label {background-color: #d4ebff;}#sk-container-id-1 div.sk-label input.sk-toggleable__control:checked~label.sk-toggleable__label {background-color: #d4ebff;}#sk-container-id-1 input.sk-hidden--visually {border: 0;clip: rect(1px 1px 1px 1px);clip: rect(1px, 1px, 1px, 1px);height: 1px;margin: -1px;overflow: hidden;padding: 0;position: absolute;width: 1px;}#sk-container-id-1 div.sk-estimator {font-family: monospace;background-color: #f0f8ff;border: 1px dotted black;border-radius: 0.25em;box-sizing: border-box;margin-bottom: 0.5em;}#sk-container-id-1 div.sk-estimator:hover {background-color: #d4ebff;}#sk-container-id-1 div.sk-parallel-item::after {content: \"\";width: 100%;border-bottom: 1px solid gray;flex-grow: 1;}#sk-container-id-1 div.sk-label:hover label.sk-toggleable__label {background-color: #d4ebff;}#sk-container-id-1 div.sk-serial::before {content: \"\";position: absolute;border-left: 1px solid gray;box-sizing: border-box;top: 0;bottom: 0;left: 50%;z-index: 0;}#sk-container-id-1 div.sk-serial {display: flex;flex-direction: column;align-items: center;background-color: white;padding-right: 0.2em;padding-left: 0.2em;position: relative;}#sk-container-id-1 div.sk-item {position: relative;z-index: 1;}#sk-container-id-1 div.sk-parallel {display: flex;align-items: stretch;justify-content: center;background-color: white;position: relative;}#sk-container-id-1 div.sk-item::before, #sk-container-id-1 div.sk-parallel-item::before {content: \"\";position: absolute;border-left: 1px solid gray;box-sizing: border-box;top: 0;bottom: 0;left: 50%;z-index: -1;}#sk-container-id-1 div.sk-parallel-item {display: flex;flex-direction: column;z-index: 1;position: relative;background-color: white;}#sk-container-id-1 div.sk-parallel-item:first-child::after {align-self: flex-end;width: 50%;}#sk-container-id-1 div.sk-parallel-item:last-child::after {align-self: flex-start;width: 50%;}#sk-container-id-1 div.sk-parallel-item:only-child::after {width: 0;}#sk-container-id-1 div.sk-dashed-wrapped {border: 1px dashed gray;margin: 0 0.4em 0.5em 0.4em;box-sizing: border-box;padding-bottom: 0.4em;background-color: white;}#sk-container-id-1 div.sk-label label {font-family: monospace;font-weight: bold;display: inline-block;line-height: 1.2em;}#sk-container-id-1 div.sk-label-container {text-align: center;}#sk-container-id-1 div.sk-container {/* jupyter's `normalize.less` sets `[hidden] { display: none; }` but bootstrap.min.css set `[hidden] { display: none !important; }` so we also need the `!important` here to be able to override the default hidden behavior on the sphinx rendered scikit-learn.org. See: https://github.com/scikit-learn/scikit-learn/issues/21755 */display: inline-block !important;position: relative;}#sk-container-id-1 div.sk-text-repr-fallback {display: none;}</style><div id=\"sk-container-id-1\" class=\"sk-top-container\"><div class=\"sk-text-repr-fallback\"><pre>RandomForestClassifier(min_samples_split=10, random_state=1)</pre><b>In a Jupyter environment, please rerun this cell to show the HTML representation or trust the notebook. <br />On GitHub, the HTML representation is unable to render, please try loading this page with nbviewer.org.</b></div><div class=\"sk-container\" hidden><div class=\"sk-item\"><div class=\"sk-estimator sk-toggleable\"><input class=\"sk-toggleable__control sk-hidden--visually\" id=\"sk-estimator-id-1\" type=\"checkbox\" checked><label for=\"sk-estimator-id-1\" class=\"sk-toggleable__label sk-toggleable__label-arrow\">RandomForestClassifier</label><div class=\"sk-toggleable__content\"><pre>RandomForestClassifier(min_samples_split=10, random_state=1)</pre></div></div></div></div></div>"
            ]
          },
          "metadata": {},
          "execution_count": 22
        }
      ]
    },
    {
      "cell_type": "code",
      "source": [
        "preds = rf.predict(X_test)\n"
      ],
      "metadata": {
        "id": "i4ZlxzWK0Oki"
      },
      "execution_count": 23,
      "outputs": []
    },
    {
      "cell_type": "markdown",
      "source": [
        "The accuracy of the model is calculated."
      ],
      "metadata": {
        "id": "rkSbkoXymeAY"
      }
    },
    {
      "cell_type": "code",
      "source": [
        "from sklearn.metrics import accuracy_score\n",
        "\n",
        "acc = accuracy_score(y_test, preds)\n",
        "print(\"Accuracy: \", acc)\n"
      ],
      "metadata": {
        "colab": {
          "base_uri": "https://localhost:8080/"
        },
        "id": "-5iDlYzT0RAl",
        "outputId": "5cd3feab-97a2-4528-cc90-3e044be94a0f"
      },
      "execution_count": 24,
      "outputs": [
        {
          "output_type": "stream",
          "name": "stdout",
          "text": [
            "Accuracy:  0.6052631578947368\n"
          ]
        }
      ]
    },
    {
      "cell_type": "markdown",
      "source": [
        "Using other metrics to evaluate our RandomForest model:\n",
        "\n",
        "**Precision**: the ratio of true positives to the sum of true positives and false positives. Precision is a measure that tells us how well the model identifies only significant cases.\n",
        "\n",
        "**Recall**: the ratio of true positives to the sum of true positives and false negatives. Recall tells us how well the model identifies all relevant cases.\n",
        "\n",
        "**F1 Score**: the harmonic mean of precision and recall. For the F1 Score to be high, both precision and recall must be high.\n",
        "\n",
        "**Confusion Matrix**: a table that describes the performance of a classification model on a set of data for which the truth is known. This allows you to easily understand what errors the model is making."
      ],
      "metadata": {
        "id": "eEQDJ7MK24cD"
      }
    },
    {
      "cell_type": "code",
      "source": [
        "from sklearn.metrics import precision_score, recall_score, f1_score, confusion_matrix\n",
        "\n",
        "y_pred = rf.predict(X_test)\n",
        "\n",
        "print('Precision:', precision_score(y_test, y_pred, average='macro'))\n",
        "print('Recall:', recall_score(y_test, y_pred, average='macro'))\n",
        "print('F1 Score:', f1_score(y_test, y_pred, average='macro'))\n",
        "print('Confusion Matrix:\\n', confusion_matrix(y_test, y_pred))\n"
      ],
      "metadata": {
        "colab": {
          "base_uri": "https://localhost:8080/"
        },
        "id": "C_zG-AEG26kk",
        "outputId": "8a6a7ccc-f67b-4769-ae23-c59d34d46684"
      },
      "execution_count": 26,
      "outputs": [
        {
          "output_type": "stream",
          "name": "stdout",
          "text": [
            "Precision: 0.5607786157741554\n",
            "Recall: 0.5539955716586151\n",
            "F1 Score: 0.536248126149224\n",
            "Confusion Matrix:\n",
            " [[ 33  83  68]\n",
            " [ 21 204  63]\n",
            " [ 22  43 223]]\n"
          ]
        }
      ]
    },
    {
      "cell_type": "markdown",
      "source": [
        "Overall accuracy is 0.61, which means that the model correctly predicts about 61% of the cases. For the problem of predicting the results of football matches, this is quite a good result, because it is a task with high uncertainty.\n",
        "\n",
        "The average precision of the model is 0.56. This means that when the model predicts a team to win, it is correct 56% of the time.\n",
        "\n",
        "The average Recall of the model is 0.55. This means that out of all the matches that a given team actually won, the model correctly predicted 55% of them. \n",
        "\n",
        "The average F1 value is 0.54, which is the harmonic mean of precision and sensitivity. F1 is useful when the costs of false positives and false negatives are uncertain, and it is important to balance precision and sensitivity.\n",
        "\n",
        "This matrix shows what errors the model makes. From your results, the model tends to predict second class, which may suggest that the model is somewhat biased.\n",
        "\n",
        "\n",
        "*Overall, the results suggest that the model has some ability to predict the outcome of French league matches, but also can be improved. May be considered using other modeling techniques, adding more features that can help the model better understand the data, or fine-tuning the parameters of the model.*"
      ],
      "metadata": {
        "id": "FzJVfsR43jRy"
      }
    },
    {
      "cell_type": "markdown",
      "source": [
        "\n",
        "\n",
        "---\n",
        "\n",
        "We now turn to the use of the XGBoost model. XGBoost is an implementation of the Gradient Boosting algorithm which is very effective in many classification problems. Here's how we can apply XGBoost to this problem:"
      ],
      "metadata": {
        "id": "tG0b7u_i3rzb"
      }
    },
    {
      "cell_type": "code",
      "source": [
        "from xgboost import XGBClassifier\n",
        "from sklearn.metrics import classification_report"
      ],
      "metadata": {
        "id": "sziqj_523iry"
      },
      "execution_count": 27,
      "outputs": []
    },
    {
      "cell_type": "code",
      "source": [
        "#Create an XGBoost model\n",
        "xgb = XGBClassifier(random_state=1)"
      ],
      "metadata": {
        "id": "BLLajXSI3wCr"
      },
      "execution_count": 28,
      "outputs": []
    },
    {
      "cell_type": "code",
      "source": [
        "#Train the model\n",
        "xgb.fit(X_train, y_train)"
      ],
      "metadata": {
        "colab": {
          "base_uri": "https://localhost:8080/",
          "height": 248
        },
        "id": "0WtmTPj13xPU",
        "outputId": "154f6966-6db6-4356-bd3a-da4050856453"
      },
      "execution_count": 29,
      "outputs": [
        {
          "output_type": "execute_result",
          "data": {
            "text/plain": [
              "XGBClassifier(base_score=None, booster=None, callbacks=None,\n",
              "              colsample_bylevel=None, colsample_bynode=None,\n",
              "              colsample_bytree=None, early_stopping_rounds=None,\n",
              "              enable_categorical=False, eval_metric=None, feature_types=None,\n",
              "              gamma=None, gpu_id=None, grow_policy=None, importance_type=None,\n",
              "              interaction_constraints=None, learning_rate=None, max_bin=None,\n",
              "              max_cat_threshold=None, max_cat_to_onehot=None,\n",
              "              max_delta_step=None, max_depth=None, max_leaves=None,\n",
              "              min_child_weight=None, missing=nan, monotone_constraints=None,\n",
              "              n_estimators=100, n_jobs=None, num_parallel_tree=None,\n",
              "              objective='multi:softprob', predictor=None, ...)"
            ],
            "text/html": [
              "<style>#sk-container-id-2 {color: black;background-color: white;}#sk-container-id-2 pre{padding: 0;}#sk-container-id-2 div.sk-toggleable {background-color: white;}#sk-container-id-2 label.sk-toggleable__label {cursor: pointer;display: block;width: 100%;margin-bottom: 0;padding: 0.3em;box-sizing: border-box;text-align: center;}#sk-container-id-2 label.sk-toggleable__label-arrow:before {content: \"▸\";float: left;margin-right: 0.25em;color: #696969;}#sk-container-id-2 label.sk-toggleable__label-arrow:hover:before {color: black;}#sk-container-id-2 div.sk-estimator:hover label.sk-toggleable__label-arrow:before {color: black;}#sk-container-id-2 div.sk-toggleable__content {max-height: 0;max-width: 0;overflow: hidden;text-align: left;background-color: #f0f8ff;}#sk-container-id-2 div.sk-toggleable__content pre {margin: 0.2em;color: black;border-radius: 0.25em;background-color: #f0f8ff;}#sk-container-id-2 input.sk-toggleable__control:checked~div.sk-toggleable__content {max-height: 200px;max-width: 100%;overflow: auto;}#sk-container-id-2 input.sk-toggleable__control:checked~label.sk-toggleable__label-arrow:before {content: \"▾\";}#sk-container-id-2 div.sk-estimator input.sk-toggleable__control:checked~label.sk-toggleable__label {background-color: #d4ebff;}#sk-container-id-2 div.sk-label input.sk-toggleable__control:checked~label.sk-toggleable__label {background-color: #d4ebff;}#sk-container-id-2 input.sk-hidden--visually {border: 0;clip: rect(1px 1px 1px 1px);clip: rect(1px, 1px, 1px, 1px);height: 1px;margin: -1px;overflow: hidden;padding: 0;position: absolute;width: 1px;}#sk-container-id-2 div.sk-estimator {font-family: monospace;background-color: #f0f8ff;border: 1px dotted black;border-radius: 0.25em;box-sizing: border-box;margin-bottom: 0.5em;}#sk-container-id-2 div.sk-estimator:hover {background-color: #d4ebff;}#sk-container-id-2 div.sk-parallel-item::after {content: \"\";width: 100%;border-bottom: 1px solid gray;flex-grow: 1;}#sk-container-id-2 div.sk-label:hover label.sk-toggleable__label {background-color: #d4ebff;}#sk-container-id-2 div.sk-serial::before {content: \"\";position: absolute;border-left: 1px solid gray;box-sizing: border-box;top: 0;bottom: 0;left: 50%;z-index: 0;}#sk-container-id-2 div.sk-serial {display: flex;flex-direction: column;align-items: center;background-color: white;padding-right: 0.2em;padding-left: 0.2em;position: relative;}#sk-container-id-2 div.sk-item {position: relative;z-index: 1;}#sk-container-id-2 div.sk-parallel {display: flex;align-items: stretch;justify-content: center;background-color: white;position: relative;}#sk-container-id-2 div.sk-item::before, #sk-container-id-2 div.sk-parallel-item::before {content: \"\";position: absolute;border-left: 1px solid gray;box-sizing: border-box;top: 0;bottom: 0;left: 50%;z-index: -1;}#sk-container-id-2 div.sk-parallel-item {display: flex;flex-direction: column;z-index: 1;position: relative;background-color: white;}#sk-container-id-2 div.sk-parallel-item:first-child::after {align-self: flex-end;width: 50%;}#sk-container-id-2 div.sk-parallel-item:last-child::after {align-self: flex-start;width: 50%;}#sk-container-id-2 div.sk-parallel-item:only-child::after {width: 0;}#sk-container-id-2 div.sk-dashed-wrapped {border: 1px dashed gray;margin: 0 0.4em 0.5em 0.4em;box-sizing: border-box;padding-bottom: 0.4em;background-color: white;}#sk-container-id-2 div.sk-label label {font-family: monospace;font-weight: bold;display: inline-block;line-height: 1.2em;}#sk-container-id-2 div.sk-label-container {text-align: center;}#sk-container-id-2 div.sk-container {/* jupyter's `normalize.less` sets `[hidden] { display: none; }` but bootstrap.min.css set `[hidden] { display: none !important; }` so we also need the `!important` here to be able to override the default hidden behavior on the sphinx rendered scikit-learn.org. See: https://github.com/scikit-learn/scikit-learn/issues/21755 */display: inline-block !important;position: relative;}#sk-container-id-2 div.sk-text-repr-fallback {display: none;}</style><div id=\"sk-container-id-2\" class=\"sk-top-container\"><div class=\"sk-text-repr-fallback\"><pre>XGBClassifier(base_score=None, booster=None, callbacks=None,\n",
              "              colsample_bylevel=None, colsample_bynode=None,\n",
              "              colsample_bytree=None, early_stopping_rounds=None,\n",
              "              enable_categorical=False, eval_metric=None, feature_types=None,\n",
              "              gamma=None, gpu_id=None, grow_policy=None, importance_type=None,\n",
              "              interaction_constraints=None, learning_rate=None, max_bin=None,\n",
              "              max_cat_threshold=None, max_cat_to_onehot=None,\n",
              "              max_delta_step=None, max_depth=None, max_leaves=None,\n",
              "              min_child_weight=None, missing=nan, monotone_constraints=None,\n",
              "              n_estimators=100, n_jobs=None, num_parallel_tree=None,\n",
              "              objective=&#x27;multi:softprob&#x27;, predictor=None, ...)</pre><b>In a Jupyter environment, please rerun this cell to show the HTML representation or trust the notebook. <br />On GitHub, the HTML representation is unable to render, please try loading this page with nbviewer.org.</b></div><div class=\"sk-container\" hidden><div class=\"sk-item\"><div class=\"sk-estimator sk-toggleable\"><input class=\"sk-toggleable__control sk-hidden--visually\" id=\"sk-estimator-id-2\" type=\"checkbox\" checked><label for=\"sk-estimator-id-2\" class=\"sk-toggleable__label sk-toggleable__label-arrow\">XGBClassifier</label><div class=\"sk-toggleable__content\"><pre>XGBClassifier(base_score=None, booster=None, callbacks=None,\n",
              "              colsample_bylevel=None, colsample_bynode=None,\n",
              "              colsample_bytree=None, early_stopping_rounds=None,\n",
              "              enable_categorical=False, eval_metric=None, feature_types=None,\n",
              "              gamma=None, gpu_id=None, grow_policy=None, importance_type=None,\n",
              "              interaction_constraints=None, learning_rate=None, max_bin=None,\n",
              "              max_cat_threshold=None, max_cat_to_onehot=None,\n",
              "              max_delta_step=None, max_depth=None, max_leaves=None,\n",
              "              min_child_weight=None, missing=nan, monotone_constraints=None,\n",
              "              n_estimators=100, n_jobs=None, num_parallel_tree=None,\n",
              "              objective=&#x27;multi:softprob&#x27;, predictor=None, ...)</pre></div></div></div></div></div>"
            ]
          },
          "metadata": {},
          "execution_count": 29
        }
      ]
    },
    {
      "cell_type": "code",
      "source": [
        "#Use the model to make predictions on test data\n",
        "xgb_preds = xgb.predict(X_test)"
      ],
      "metadata": {
        "id": "h-eA3t8C3zCT"
      },
      "execution_count": 32,
      "outputs": []
    },
    {
      "cell_type": "code",
      "source": [
        "#Print the metrics\n",
        "print('Accuracy: ', accuracy_score(y_test, xgb_preds))\n",
        "print('Precision: ', precision_score(y_test, xgb_preds, average='macro'))\n",
        "print('Recall: ', recall_score(y_test, xgb_preds, average='macro'))\n",
        "print('F1 Score: ', f1_score(y_test, xgb_preds, average='macro'))\n",
        "print('Confusion Matrix:\\n', confusion_matrix(y_test, xgb_preds))"
      ],
      "metadata": {
        "colab": {
          "base_uri": "https://localhost:8080/"
        },
        "id": "kgGqqD3F301L",
        "outputId": "aa1b92ea-2a11-44d2-d838-87562b284890"
      },
      "execution_count": 33,
      "outputs": [
        {
          "output_type": "stream",
          "name": "stdout",
          "text": [
            "Accuracy:  0.6118421052631579\n",
            "Precision:  0.5713982120483286\n",
            "Recall:  0.5735205314009661\n",
            "F1 Score:  0.5691309996036993\n",
            "Confusion Matrix:\n",
            " [[ 54  73  57]\n",
            " [ 42 200  46]\n",
            " [ 40  37 211]]\n"
          ]
        }
      ]
    },
    {
      "cell_type": "markdown",
      "source": [
        "The accuracy of the XGBoost model is 0.61, which is slightly higher than the accuracy of the RandomForest model (0.60). This suggests that the XGBoost model is slightly better at predicting the results of French league matches.\n",
        "\n",
        "The average precision of the XGBoost model is 0.57, which is slightly higher than that of the RandomForest model (0.56). This means that the XGBoost model is slightly more accurate in predicting match winners.\n",
        "\n",
        "The average sensitivity of the XGBoost model is 0.57, which is also slightly higher compared to the RandomForest model (0.55). This means that the XGBoost model is better at identifying real winners.\n",
        "\n",
        "The average F1 value for the XGBoost model is 0.57, which is slightly higher compared to the RandomForest model (0.54). This means that the XGBoost model better balances precision and sensitivity.\n",
        "\n",
        "Looking at the confusion matrix, it can be seen that the number of false predictions has decreased for each class compared to the RandomForest model. This suggests that the XGBoost model is a bit more reliable.\n",
        "\n",
        "In conclusion, the XGBoost model seems to improve the results compared to the RandomForest model in the context of predicting the results of French league matches based on the provided metrics. However, it is important to note that these differences are minor and both models have similar results. Still, XGBoost seems to be a better choice based on the data provided.\n",
        "\n",
        "\n"
      ],
      "metadata": {
        "id": "3EUN5koM38gB"
      }
    },
    {
      "cell_type": "markdown",
      "source": [
        "\n",
        "\n",
        "---\n",
        "**Creating own model:**\n"
      ],
      "metadata": {
        "id": "IxUdOPvc5Mjs"
      }
    },
    {
      "cell_type": "code",
      "source": [
        "df.head()"
      ],
      "metadata": {
        "colab": {
          "base_uri": "https://localhost:8080/",
          "height": 206
        },
        "id": "yl8jhOw56nJ2",
        "outputId": "b825eeca-8dd0-4f7d-e4c0-ba92310cdd4e"
      },
      "execution_count": 34,
      "outputs": [
        {
          "output_type": "execute_result",
          "data": {
            "text/plain": [
              "   venue  opponent   xg  xga  poss  attendance    sh   sot  formation   fk  \\\n",
              "1      0         7  3.5  0.3  62.0     12203.0  18.0  12.0          4  1.0   \n",
              "2      1        17  3.2  0.9  59.0     46000.0  18.0   8.0          3  3.0   \n",
              "3      0        11  3.4  1.7  52.0     47526.0  16.0   9.0          4  0.0   \n",
              "4      1        16  2.7  1.2  67.0     46000.0  17.0   4.0          4  0.0   \n",
              "5      0        26  2.8  0.8  62.0     31700.0  20.0  12.0          4  2.0   \n",
              "\n",
              "    pk  pkatt  season       date  team  result  mean_team_xg  mean_team_xga  \n",
              "1  0.0    0.0    2023 2022-08-06    21       2      2.221788       1.059218  \n",
              "2  1.0    2.0    2023 2022-08-13    21       2      2.221788       1.059218  \n",
              "3  0.0    0.0    2023 2022-08-21    21       2      2.221788       1.059218  \n",
              "4  1.0    1.0    2023 2022-08-28    21       0      2.221788       1.059218  \n",
              "5  0.0    0.0    2023 2022-08-31    21       2      2.221788       1.059218  "
            ],
            "text/html": [
              "\n",
              "  <div id=\"df-ff52f098-0f90-474d-9021-33f50a866be1\">\n",
              "    <div class=\"colab-df-container\">\n",
              "      <div>\n",
              "<style scoped>\n",
              "    .dataframe tbody tr th:only-of-type {\n",
              "        vertical-align: middle;\n",
              "    }\n",
              "\n",
              "    .dataframe tbody tr th {\n",
              "        vertical-align: top;\n",
              "    }\n",
              "\n",
              "    .dataframe thead th {\n",
              "        text-align: right;\n",
              "    }\n",
              "</style>\n",
              "<table border=\"1\" class=\"dataframe\">\n",
              "  <thead>\n",
              "    <tr style=\"text-align: right;\">\n",
              "      <th></th>\n",
              "      <th>venue</th>\n",
              "      <th>opponent</th>\n",
              "      <th>xg</th>\n",
              "      <th>xga</th>\n",
              "      <th>poss</th>\n",
              "      <th>attendance</th>\n",
              "      <th>sh</th>\n",
              "      <th>sot</th>\n",
              "      <th>formation</th>\n",
              "      <th>fk</th>\n",
              "      <th>pk</th>\n",
              "      <th>pkatt</th>\n",
              "      <th>season</th>\n",
              "      <th>date</th>\n",
              "      <th>team</th>\n",
              "      <th>result</th>\n",
              "      <th>mean_team_xg</th>\n",
              "      <th>mean_team_xga</th>\n",
              "    </tr>\n",
              "  </thead>\n",
              "  <tbody>\n",
              "    <tr>\n",
              "      <th>1</th>\n",
              "      <td>0</td>\n",
              "      <td>7</td>\n",
              "      <td>3.5</td>\n",
              "      <td>0.3</td>\n",
              "      <td>62.0</td>\n",
              "      <td>12203.0</td>\n",
              "      <td>18.0</td>\n",
              "      <td>12.0</td>\n",
              "      <td>4</td>\n",
              "      <td>1.0</td>\n",
              "      <td>0.0</td>\n",
              "      <td>0.0</td>\n",
              "      <td>2023</td>\n",
              "      <td>2022-08-06</td>\n",
              "      <td>21</td>\n",
              "      <td>2</td>\n",
              "      <td>2.221788</td>\n",
              "      <td>1.059218</td>\n",
              "    </tr>\n",
              "    <tr>\n",
              "      <th>2</th>\n",
              "      <td>1</td>\n",
              "      <td>17</td>\n",
              "      <td>3.2</td>\n",
              "      <td>0.9</td>\n",
              "      <td>59.0</td>\n",
              "      <td>46000.0</td>\n",
              "      <td>18.0</td>\n",
              "      <td>8.0</td>\n",
              "      <td>3</td>\n",
              "      <td>3.0</td>\n",
              "      <td>1.0</td>\n",
              "      <td>2.0</td>\n",
              "      <td>2023</td>\n",
              "      <td>2022-08-13</td>\n",
              "      <td>21</td>\n",
              "      <td>2</td>\n",
              "      <td>2.221788</td>\n",
              "      <td>1.059218</td>\n",
              "    </tr>\n",
              "    <tr>\n",
              "      <th>3</th>\n",
              "      <td>0</td>\n",
              "      <td>11</td>\n",
              "      <td>3.4</td>\n",
              "      <td>1.7</td>\n",
              "      <td>52.0</td>\n",
              "      <td>47526.0</td>\n",
              "      <td>16.0</td>\n",
              "      <td>9.0</td>\n",
              "      <td>4</td>\n",
              "      <td>0.0</td>\n",
              "      <td>0.0</td>\n",
              "      <td>0.0</td>\n",
              "      <td>2023</td>\n",
              "      <td>2022-08-21</td>\n",
              "      <td>21</td>\n",
              "      <td>2</td>\n",
              "      <td>2.221788</td>\n",
              "      <td>1.059218</td>\n",
              "    </tr>\n",
              "    <tr>\n",
              "      <th>4</th>\n",
              "      <td>1</td>\n",
              "      <td>16</td>\n",
              "      <td>2.7</td>\n",
              "      <td>1.2</td>\n",
              "      <td>67.0</td>\n",
              "      <td>46000.0</td>\n",
              "      <td>17.0</td>\n",
              "      <td>4.0</td>\n",
              "      <td>4</td>\n",
              "      <td>0.0</td>\n",
              "      <td>1.0</td>\n",
              "      <td>1.0</td>\n",
              "      <td>2023</td>\n",
              "      <td>2022-08-28</td>\n",
              "      <td>21</td>\n",
              "      <td>0</td>\n",
              "      <td>2.221788</td>\n",
              "      <td>1.059218</td>\n",
              "    </tr>\n",
              "    <tr>\n",
              "      <th>5</th>\n",
              "      <td>0</td>\n",
              "      <td>26</td>\n",
              "      <td>2.8</td>\n",
              "      <td>0.8</td>\n",
              "      <td>62.0</td>\n",
              "      <td>31700.0</td>\n",
              "      <td>20.0</td>\n",
              "      <td>12.0</td>\n",
              "      <td>4</td>\n",
              "      <td>2.0</td>\n",
              "      <td>0.0</td>\n",
              "      <td>0.0</td>\n",
              "      <td>2023</td>\n",
              "      <td>2022-08-31</td>\n",
              "      <td>21</td>\n",
              "      <td>2</td>\n",
              "      <td>2.221788</td>\n",
              "      <td>1.059218</td>\n",
              "    </tr>\n",
              "  </tbody>\n",
              "</table>\n",
              "</div>\n",
              "      <button class=\"colab-df-convert\" onclick=\"convertToInteractive('df-ff52f098-0f90-474d-9021-33f50a866be1')\"\n",
              "              title=\"Convert this dataframe to an interactive table.\"\n",
              "              style=\"display:none;\">\n",
              "        \n",
              "  <svg xmlns=\"http://www.w3.org/2000/svg\" height=\"24px\"viewBox=\"0 0 24 24\"\n",
              "       width=\"24px\">\n",
              "    <path d=\"M0 0h24v24H0V0z\" fill=\"none\"/>\n",
              "    <path d=\"M18.56 5.44l.94 2.06.94-2.06 2.06-.94-2.06-.94-.94-2.06-.94 2.06-2.06.94zm-11 1L8.5 8.5l.94-2.06 2.06-.94-2.06-.94L8.5 2.5l-.94 2.06-2.06.94zm10 10l.94 2.06.94-2.06 2.06-.94-2.06-.94-.94-2.06-.94 2.06-2.06.94z\"/><path d=\"M17.41 7.96l-1.37-1.37c-.4-.4-.92-.59-1.43-.59-.52 0-1.04.2-1.43.59L10.3 9.45l-7.72 7.72c-.78.78-.78 2.05 0 2.83L4 21.41c.39.39.9.59 1.41.59.51 0 1.02-.2 1.41-.59l7.78-7.78 2.81-2.81c.8-.78.8-2.07 0-2.86zM5.41 20L4 18.59l7.72-7.72 1.47 1.35L5.41 20z\"/>\n",
              "  </svg>\n",
              "      </button>\n",
              "      \n",
              "  <style>\n",
              "    .colab-df-container {\n",
              "      display:flex;\n",
              "      flex-wrap:wrap;\n",
              "      gap: 12px;\n",
              "    }\n",
              "\n",
              "    .colab-df-convert {\n",
              "      background-color: #E8F0FE;\n",
              "      border: none;\n",
              "      border-radius: 50%;\n",
              "      cursor: pointer;\n",
              "      display: none;\n",
              "      fill: #1967D2;\n",
              "      height: 32px;\n",
              "      padding: 0 0 0 0;\n",
              "      width: 32px;\n",
              "    }\n",
              "\n",
              "    .colab-df-convert:hover {\n",
              "      background-color: #E2EBFA;\n",
              "      box-shadow: 0px 1px 2px rgba(60, 64, 67, 0.3), 0px 1px 3px 1px rgba(60, 64, 67, 0.15);\n",
              "      fill: #174EA6;\n",
              "    }\n",
              "\n",
              "    [theme=dark] .colab-df-convert {\n",
              "      background-color: #3B4455;\n",
              "      fill: #D2E3FC;\n",
              "    }\n",
              "\n",
              "    [theme=dark] .colab-df-convert:hover {\n",
              "      background-color: #434B5C;\n",
              "      box-shadow: 0px 1px 3px 1px rgba(0, 0, 0, 0.15);\n",
              "      filter: drop-shadow(0px 1px 2px rgba(0, 0, 0, 0.3));\n",
              "      fill: #FFFFFF;\n",
              "    }\n",
              "  </style>\n",
              "\n",
              "      <script>\n",
              "        const buttonEl =\n",
              "          document.querySelector('#df-ff52f098-0f90-474d-9021-33f50a866be1 button.colab-df-convert');\n",
              "        buttonEl.style.display =\n",
              "          google.colab.kernel.accessAllowed ? 'block' : 'none';\n",
              "\n",
              "        async function convertToInteractive(key) {\n",
              "          const element = document.querySelector('#df-ff52f098-0f90-474d-9021-33f50a866be1');\n",
              "          const dataTable =\n",
              "            await google.colab.kernel.invokeFunction('convertToInteractive',\n",
              "                                                     [key], {});\n",
              "          if (!dataTable) return;\n",
              "\n",
              "          const docLinkHtml = 'Like what you see? Visit the ' +\n",
              "            '<a target=\"_blank\" href=https://colab.research.google.com/notebooks/data_table.ipynb>data table notebook</a>'\n",
              "            + ' to learn more about interactive tables.';\n",
              "          element.innerHTML = '';\n",
              "          dataTable['output_type'] = 'display_data';\n",
              "          await google.colab.output.renderOutput(dataTable, element);\n",
              "          const docLink = document.createElement('div');\n",
              "          docLink.innerHTML = docLinkHtml;\n",
              "          element.appendChild(docLink);\n",
              "        }\n",
              "      </script>\n",
              "    </div>\n",
              "  </div>\n",
              "  "
            ]
          },
          "metadata": {},
          "execution_count": 34
        }
      ]
    },
    {
      "cell_type": "code",
      "source": [
        "#Importing the necessary libraries\n",
        "from keras.models import Sequential\n",
        "from keras.layers import Dense, Dropout\n",
        "from keras import regularizers\n",
        "\n",
        "from sklearn.preprocessing import StandardScaler\n",
        "from keras.utils import to_categorical\n",
        "\n",
        "#Data scaling\n",
        "scaler = StandardScaler()\n",
        "X_train = scaler.fit_transform(X_train)\n",
        "X_test = scaler.transform(X_test)\n",
        "\n",
        "#Converting labels to one-hot form\n",
        "y_train_categorical = to_categorical(y_train)\n",
        "y_test_categorical = to_categorical(y_test)\n",
        "\n",
        "#Define the model\n",
        "model = Sequential()\n",
        "input_dim = X_train.shape[1]  #number of features\n",
        "\n",
        "model.add(Dense(64, input_dim=input_dim, activation='relu', kernel_regularizer=regularizers.l2(0.01)))\n",
        "model.add(Dropout(0.2))  # Dodaj warstwę Dropout\n",
        "model.add(Dense(32, activation='relu'))\n",
        "model.add(Dropout(0.2))  # Dodaj warstwę Dropout\n",
        "model.add(Dense(16, activation='relu'))\n",
        "model.add(Dense(3, activation='softmax'))\n",
        "\n",
        "#Model compile\n",
        "model.compile(loss='categorical_crossentropy', optimizer='adam', metrics=['accuracy'])\n",
        "\n",
        "#Model training\n",
        "history = model.fit(X_train, y_train_categorical, validation_data=(X_test, y_test_categorical), epochs=100, batch_size=10)\n"
      ],
      "metadata": {
        "colab": {
          "base_uri": "https://localhost:8080/"
        },
        "id": "C1BGgwqC5Pyb",
        "outputId": "7d77b5eb-86c6-4241-d418-3ac13db929ed"
      },
      "execution_count": 35,
      "outputs": [
        {
          "output_type": "stream",
          "name": "stdout",
          "text": [
            "Epoch 1/100\n",
            "284/284 [==============================] - 3s 6ms/step - loss: 1.2666 - accuracy: 0.4803 - val_loss: 1.0549 - val_accuracy: 0.6039\n",
            "Epoch 2/100\n",
            "284/284 [==============================] - 1s 2ms/step - loss: 1.0621 - accuracy: 0.5655 - val_loss: 0.9482 - val_accuracy: 0.6145\n",
            "Epoch 3/100\n",
            "284/284 [==============================] - 1s 3ms/step - loss: 0.9776 - accuracy: 0.5899 - val_loss: 0.9056 - val_accuracy: 0.6250\n",
            "Epoch 4/100\n",
            "284/284 [==============================] - 1s 2ms/step - loss: 0.9345 - accuracy: 0.5987 - val_loss: 0.8750 - val_accuracy: 0.6158\n",
            "Epoch 5/100\n",
            "284/284 [==============================] - 1s 2ms/step - loss: 0.9114 - accuracy: 0.6096 - val_loss: 0.8598 - val_accuracy: 0.6289\n",
            "Epoch 6/100\n",
            "284/284 [==============================] - 1s 4ms/step - loss: 0.8953 - accuracy: 0.6124 - val_loss: 0.8508 - val_accuracy: 0.6224\n",
            "Epoch 7/100\n",
            "284/284 [==============================] - 1s 3ms/step - loss: 0.8841 - accuracy: 0.6156 - val_loss: 0.8512 - val_accuracy: 0.6237\n",
            "Epoch 8/100\n",
            "284/284 [==============================] - 1s 3ms/step - loss: 0.8787 - accuracy: 0.6110 - val_loss: 0.8450 - val_accuracy: 0.6197\n",
            "Epoch 9/100\n",
            "284/284 [==============================] - 1s 2ms/step - loss: 0.8669 - accuracy: 0.6138 - val_loss: 0.8522 - val_accuracy: 0.6237\n",
            "Epoch 10/100\n",
            "284/284 [==============================] - 1s 2ms/step - loss: 0.8683 - accuracy: 0.6159 - val_loss: 0.8451 - val_accuracy: 0.6237\n",
            "Epoch 11/100\n",
            "284/284 [==============================] - 1s 2ms/step - loss: 0.8636 - accuracy: 0.6082 - val_loss: 0.8424 - val_accuracy: 0.6303\n",
            "Epoch 12/100\n",
            "284/284 [==============================] - 1s 2ms/step - loss: 0.8566 - accuracy: 0.6258 - val_loss: 0.8459 - val_accuracy: 0.6434\n",
            "Epoch 13/100\n",
            "284/284 [==============================] - 1s 2ms/step - loss: 0.8603 - accuracy: 0.6142 - val_loss: 0.8513 - val_accuracy: 0.6316\n",
            "Epoch 14/100\n",
            "284/284 [==============================] - 1s 3ms/step - loss: 0.8545 - accuracy: 0.6187 - val_loss: 0.8404 - val_accuracy: 0.6303\n",
            "Epoch 15/100\n",
            "284/284 [==============================] - 1s 3ms/step - loss: 0.8471 - accuracy: 0.6226 - val_loss: 0.8440 - val_accuracy: 0.6303\n",
            "Epoch 16/100\n",
            "284/284 [==============================] - 1s 3ms/step - loss: 0.8541 - accuracy: 0.6216 - val_loss: 0.8537 - val_accuracy: 0.6329\n",
            "Epoch 17/100\n",
            "284/284 [==============================] - 1s 3ms/step - loss: 0.8457 - accuracy: 0.6258 - val_loss: 0.8482 - val_accuracy: 0.6211\n",
            "Epoch 18/100\n",
            "284/284 [==============================] - 1s 3ms/step - loss: 0.8501 - accuracy: 0.6226 - val_loss: 0.8433 - val_accuracy: 0.6276\n",
            "Epoch 19/100\n",
            "284/284 [==============================] - 1s 3ms/step - loss: 0.8419 - accuracy: 0.6350 - val_loss: 0.8483 - val_accuracy: 0.6329\n",
            "Epoch 20/100\n",
            "284/284 [==============================] - 1s 3ms/step - loss: 0.8439 - accuracy: 0.6293 - val_loss: 0.8559 - val_accuracy: 0.6171\n",
            "Epoch 21/100\n",
            "284/284 [==============================] - 1s 3ms/step - loss: 0.8418 - accuracy: 0.6276 - val_loss: 0.8484 - val_accuracy: 0.6355\n",
            "Epoch 22/100\n",
            "284/284 [==============================] - 1s 4ms/step - loss: 0.8394 - accuracy: 0.6254 - val_loss: 0.8499 - val_accuracy: 0.6276\n",
            "Epoch 23/100\n",
            "284/284 [==============================] - 1s 4ms/step - loss: 0.8435 - accuracy: 0.6258 - val_loss: 0.8472 - val_accuracy: 0.6316\n",
            "Epoch 24/100\n",
            "284/284 [==============================] - 1s 3ms/step - loss: 0.8333 - accuracy: 0.6399 - val_loss: 0.8476 - val_accuracy: 0.6197\n",
            "Epoch 25/100\n",
            "284/284 [==============================] - 1s 2ms/step - loss: 0.8350 - accuracy: 0.6406 - val_loss: 0.8492 - val_accuracy: 0.6421\n",
            "Epoch 26/100\n",
            "284/284 [==============================] - 1s 2ms/step - loss: 0.8279 - accuracy: 0.6346 - val_loss: 0.8578 - val_accuracy: 0.6250\n",
            "Epoch 27/100\n",
            "284/284 [==============================] - 1s 3ms/step - loss: 0.8334 - accuracy: 0.6364 - val_loss: 0.8736 - val_accuracy: 0.6079\n",
            "Epoch 28/100\n",
            "284/284 [==============================] - 1s 3ms/step - loss: 0.8253 - accuracy: 0.6476 - val_loss: 0.8609 - val_accuracy: 0.6289\n",
            "Epoch 29/100\n",
            "284/284 [==============================] - 1s 2ms/step - loss: 0.8285 - accuracy: 0.6374 - val_loss: 0.8534 - val_accuracy: 0.6224\n",
            "Epoch 30/100\n",
            "284/284 [==============================] - 1s 3ms/step - loss: 0.8269 - accuracy: 0.6371 - val_loss: 0.8527 - val_accuracy: 0.6355\n",
            "Epoch 31/100\n",
            "284/284 [==============================] - 1s 3ms/step - loss: 0.8212 - accuracy: 0.6367 - val_loss: 0.8661 - val_accuracy: 0.6250\n",
            "Epoch 32/100\n",
            "284/284 [==============================] - 1s 3ms/step - loss: 0.8243 - accuracy: 0.6300 - val_loss: 0.8620 - val_accuracy: 0.6158\n",
            "Epoch 33/100\n",
            "284/284 [==============================] - 1s 2ms/step - loss: 0.8229 - accuracy: 0.6392 - val_loss: 0.8703 - val_accuracy: 0.6303\n",
            "Epoch 34/100\n",
            "284/284 [==============================] - 1s 3ms/step - loss: 0.8263 - accuracy: 0.6350 - val_loss: 0.8808 - val_accuracy: 0.6184\n",
            "Epoch 35/100\n",
            "284/284 [==============================] - 1s 3ms/step - loss: 0.8192 - accuracy: 0.6498 - val_loss: 0.8741 - val_accuracy: 0.6158\n",
            "Epoch 36/100\n",
            "284/284 [==============================] - 1s 3ms/step - loss: 0.8138 - accuracy: 0.6462 - val_loss: 0.8802 - val_accuracy: 0.6303\n",
            "Epoch 37/100\n",
            "284/284 [==============================] - 1s 3ms/step - loss: 0.8122 - accuracy: 0.6508 - val_loss: 0.8789 - val_accuracy: 0.6079\n",
            "Epoch 38/100\n",
            "284/284 [==============================] - 1s 5ms/step - loss: 0.8095 - accuracy: 0.6536 - val_loss: 0.8757 - val_accuracy: 0.6250\n",
            "Epoch 39/100\n",
            "284/284 [==============================] - 1s 4ms/step - loss: 0.8047 - accuracy: 0.6522 - val_loss: 0.8872 - val_accuracy: 0.6145\n",
            "Epoch 40/100\n",
            "284/284 [==============================] - 1s 3ms/step - loss: 0.8136 - accuracy: 0.6459 - val_loss: 0.8736 - val_accuracy: 0.6250\n",
            "Epoch 41/100\n",
            "284/284 [==============================] - 1s 3ms/step - loss: 0.8187 - accuracy: 0.6388 - val_loss: 0.8878 - val_accuracy: 0.6079\n",
            "Epoch 42/100\n",
            "284/284 [==============================] - 1s 3ms/step - loss: 0.8067 - accuracy: 0.6589 - val_loss: 0.8715 - val_accuracy: 0.6250\n",
            "Epoch 43/100\n",
            "284/284 [==============================] - 1s 2ms/step - loss: 0.8048 - accuracy: 0.6586 - val_loss: 0.8817 - val_accuracy: 0.6250\n",
            "Epoch 44/100\n",
            "284/284 [==============================] - 1s 2ms/step - loss: 0.8013 - accuracy: 0.6624 - val_loss: 0.9031 - val_accuracy: 0.6066\n",
            "Epoch 45/100\n",
            "284/284 [==============================] - 1s 2ms/step - loss: 0.7951 - accuracy: 0.6600 - val_loss: 0.8893 - val_accuracy: 0.6197\n",
            "Epoch 46/100\n",
            "284/284 [==============================] - 1s 2ms/step - loss: 0.8058 - accuracy: 0.6593 - val_loss: 0.8950 - val_accuracy: 0.6184\n",
            "Epoch 47/100\n",
            "284/284 [==============================] - 1s 2ms/step - loss: 0.8028 - accuracy: 0.6402 - val_loss: 0.9040 - val_accuracy: 0.6197\n",
            "Epoch 48/100\n",
            "284/284 [==============================] - 1s 2ms/step - loss: 0.7890 - accuracy: 0.6617 - val_loss: 0.9505 - val_accuracy: 0.6092\n",
            "Epoch 49/100\n",
            "284/284 [==============================] - 1s 2ms/step - loss: 0.8021 - accuracy: 0.6543 - val_loss: 0.9075 - val_accuracy: 0.6013\n",
            "Epoch 50/100\n",
            "284/284 [==============================] - 1s 3ms/step - loss: 0.7916 - accuracy: 0.6540 - val_loss: 0.9353 - val_accuracy: 0.6092\n",
            "Epoch 51/100\n",
            "284/284 [==============================] - 1s 2ms/step - loss: 0.7973 - accuracy: 0.6557 - val_loss: 0.9023 - val_accuracy: 0.6224\n",
            "Epoch 52/100\n",
            "284/284 [==============================] - 1s 3ms/step - loss: 0.7935 - accuracy: 0.6628 - val_loss: 0.9181 - val_accuracy: 0.6197\n",
            "Epoch 53/100\n",
            "284/284 [==============================] - 1s 3ms/step - loss: 0.7915 - accuracy: 0.6596 - val_loss: 0.9118 - val_accuracy: 0.6105\n",
            "Epoch 54/100\n",
            "284/284 [==============================] - 1s 3ms/step - loss: 0.7892 - accuracy: 0.6635 - val_loss: 0.9115 - val_accuracy: 0.6250\n",
            "Epoch 55/100\n",
            "284/284 [==============================] - 1s 3ms/step - loss: 0.7872 - accuracy: 0.6646 - val_loss: 0.9173 - val_accuracy: 0.5974\n",
            "Epoch 56/100\n",
            "284/284 [==============================] - 1s 4ms/step - loss: 0.7878 - accuracy: 0.6621 - val_loss: 0.9101 - val_accuracy: 0.6289\n",
            "Epoch 57/100\n",
            "284/284 [==============================] - 1s 3ms/step - loss: 0.7840 - accuracy: 0.6596 - val_loss: 0.9064 - val_accuracy: 0.6184\n",
            "Epoch 58/100\n",
            "284/284 [==============================] - 1s 3ms/step - loss: 0.7988 - accuracy: 0.6572 - val_loss: 0.9031 - val_accuracy: 0.6211\n",
            "Epoch 59/100\n",
            "284/284 [==============================] - 1s 3ms/step - loss: 0.7827 - accuracy: 0.6695 - val_loss: 0.9339 - val_accuracy: 0.6132\n",
            "Epoch 60/100\n",
            "284/284 [==============================] - 1s 3ms/step - loss: 0.7811 - accuracy: 0.6705 - val_loss: 0.9253 - val_accuracy: 0.6184\n",
            "Epoch 61/100\n",
            "284/284 [==============================] - 1s 3ms/step - loss: 0.7866 - accuracy: 0.6621 - val_loss: 0.9207 - val_accuracy: 0.6145\n",
            "Epoch 62/100\n",
            "284/284 [==============================] - 1s 3ms/step - loss: 0.7845 - accuracy: 0.6663 - val_loss: 0.9206 - val_accuracy: 0.6171\n",
            "Epoch 63/100\n",
            "284/284 [==============================] - 1s 2ms/step - loss: 0.7891 - accuracy: 0.6684 - val_loss: 0.9283 - val_accuracy: 0.6092\n",
            "Epoch 64/100\n",
            "284/284 [==============================] - 1s 2ms/step - loss: 0.7841 - accuracy: 0.6684 - val_loss: 0.9343 - val_accuracy: 0.6145\n",
            "Epoch 65/100\n",
            "284/284 [==============================] - 1s 3ms/step - loss: 0.7787 - accuracy: 0.6779 - val_loss: 0.9586 - val_accuracy: 0.6066\n",
            "Epoch 66/100\n",
            "284/284 [==============================] - 1s 2ms/step - loss: 0.7749 - accuracy: 0.6741 - val_loss: 0.9196 - val_accuracy: 0.6224\n",
            "Epoch 67/100\n",
            "284/284 [==============================] - 1s 2ms/step - loss: 0.7792 - accuracy: 0.6801 - val_loss: 0.9343 - val_accuracy: 0.6171\n",
            "Epoch 68/100\n",
            "284/284 [==============================] - 1s 2ms/step - loss: 0.7681 - accuracy: 0.6801 - val_loss: 0.9296 - val_accuracy: 0.6079\n",
            "Epoch 69/100\n",
            "284/284 [==============================] - 1s 2ms/step - loss: 0.7807 - accuracy: 0.6681 - val_loss: 0.9422 - val_accuracy: 0.6145\n",
            "Epoch 70/100\n",
            "284/284 [==============================] - 1s 3ms/step - loss: 0.7729 - accuracy: 0.6720 - val_loss: 0.9475 - val_accuracy: 0.6066\n",
            "Epoch 71/100\n",
            "284/284 [==============================] - 1s 4ms/step - loss: 0.7776 - accuracy: 0.6797 - val_loss: 0.9615 - val_accuracy: 0.6013\n",
            "Epoch 72/100\n",
            "284/284 [==============================] - 1s 4ms/step - loss: 0.7698 - accuracy: 0.6797 - val_loss: 0.9313 - val_accuracy: 0.6132\n",
            "Epoch 73/100\n",
            "284/284 [==============================] - 1s 3ms/step - loss: 0.7617 - accuracy: 0.6811 - val_loss: 0.9607 - val_accuracy: 0.6184\n",
            "Epoch 74/100\n",
            "284/284 [==============================] - 1s 3ms/step - loss: 0.7699 - accuracy: 0.6779 - val_loss: 0.9602 - val_accuracy: 0.6092\n",
            "Epoch 75/100\n",
            "284/284 [==============================] - 1s 2ms/step - loss: 0.7574 - accuracy: 0.6938 - val_loss: 0.9564 - val_accuracy: 0.6053\n",
            "Epoch 76/100\n",
            "284/284 [==============================] - 1s 2ms/step - loss: 0.7684 - accuracy: 0.6864 - val_loss: 0.9740 - val_accuracy: 0.6118\n",
            "Epoch 77/100\n",
            "284/284 [==============================] - 1s 2ms/step - loss: 0.7667 - accuracy: 0.6818 - val_loss: 0.9772 - val_accuracy: 0.6079\n",
            "Epoch 78/100\n",
            "284/284 [==============================] - 1s 2ms/step - loss: 0.7693 - accuracy: 0.6776 - val_loss: 0.9615 - val_accuracy: 0.6026\n",
            "Epoch 79/100\n",
            "284/284 [==============================] - 1s 2ms/step - loss: 0.7625 - accuracy: 0.6850 - val_loss: 0.9508 - val_accuracy: 0.6026\n",
            "Epoch 80/100\n",
            "284/284 [==============================] - 1s 2ms/step - loss: 0.7607 - accuracy: 0.6853 - val_loss: 0.9668 - val_accuracy: 0.6000\n",
            "Epoch 81/100\n",
            "284/284 [==============================] - 1s 3ms/step - loss: 0.7754 - accuracy: 0.6765 - val_loss: 0.9522 - val_accuracy: 0.6000\n",
            "Epoch 82/100\n",
            "284/284 [==============================] - 1s 2ms/step - loss: 0.7533 - accuracy: 0.6871 - val_loss: 0.9732 - val_accuracy: 0.6039\n",
            "Epoch 83/100\n",
            "284/284 [==============================] - 1s 3ms/step - loss: 0.7551 - accuracy: 0.6860 - val_loss: 0.9813 - val_accuracy: 0.6118\n",
            "Epoch 84/100\n",
            "284/284 [==============================] - 1s 3ms/step - loss: 0.7563 - accuracy: 0.6878 - val_loss: 1.0053 - val_accuracy: 0.6105\n",
            "Epoch 85/100\n",
            "284/284 [==============================] - 1s 3ms/step - loss: 0.7565 - accuracy: 0.6758 - val_loss: 1.0392 - val_accuracy: 0.6132\n",
            "Epoch 86/100\n",
            "284/284 [==============================] - 1s 3ms/step - loss: 0.7580 - accuracy: 0.6702 - val_loss: 1.0159 - val_accuracy: 0.6026\n",
            "Epoch 87/100\n",
            "284/284 [==============================] - 1s 2ms/step - loss: 0.7531 - accuracy: 0.6896 - val_loss: 1.0026 - val_accuracy: 0.6026\n",
            "Epoch 88/100\n",
            "284/284 [==============================] - 1s 3ms/step - loss: 0.7600 - accuracy: 0.6829 - val_loss: 1.0011 - val_accuracy: 0.5974\n",
            "Epoch 89/100\n",
            "284/284 [==============================] - 1s 4ms/step - loss: 0.7674 - accuracy: 0.6769 - val_loss: 0.9788 - val_accuracy: 0.6118\n",
            "Epoch 90/100\n",
            "284/284 [==============================] - 1s 4ms/step - loss: 0.7534 - accuracy: 0.6906 - val_loss: 1.0005 - val_accuracy: 0.6026\n",
            "Epoch 91/100\n",
            "284/284 [==============================] - 1s 4ms/step - loss: 0.7444 - accuracy: 0.6896 - val_loss: 1.0075 - val_accuracy: 0.5947\n",
            "Epoch 92/100\n",
            "284/284 [==============================] - 1s 5ms/step - loss: 0.7315 - accuracy: 0.7033 - val_loss: 1.0432 - val_accuracy: 0.6171\n",
            "Epoch 93/100\n",
            "284/284 [==============================] - 1s 3ms/step - loss: 0.7650 - accuracy: 0.6889 - val_loss: 0.9767 - val_accuracy: 0.6171\n",
            "Epoch 94/100\n",
            "284/284 [==============================] - 1s 3ms/step - loss: 0.7467 - accuracy: 0.6973 - val_loss: 1.0092 - val_accuracy: 0.6013\n",
            "Epoch 95/100\n",
            "284/284 [==============================] - 1s 3ms/step - loss: 0.7536 - accuracy: 0.6934 - val_loss: 0.9783 - val_accuracy: 0.6118\n",
            "Epoch 96/100\n",
            "284/284 [==============================] - 1s 2ms/step - loss: 0.7550 - accuracy: 0.6903 - val_loss: 1.0175 - val_accuracy: 0.6132\n",
            "Epoch 97/100\n",
            "284/284 [==============================] - 1s 2ms/step - loss: 0.7454 - accuracy: 0.6959 - val_loss: 0.9809 - val_accuracy: 0.5947\n",
            "Epoch 98/100\n",
            "284/284 [==============================] - 1s 3ms/step - loss: 0.7528 - accuracy: 0.6850 - val_loss: 0.9963 - val_accuracy: 0.5974\n",
            "Epoch 99/100\n",
            "284/284 [==============================] - 1s 5ms/step - loss: 0.7434 - accuracy: 0.7001 - val_loss: 1.0346 - val_accuracy: 0.5974\n",
            "Epoch 100/100\n",
            "284/284 [==============================] - 1s 5ms/step - loss: 0.7615 - accuracy: 0.6878 - val_loss: 1.0559 - val_accuracy: 0.5789\n"
          ]
        }
      ]
    },
    {
      "cell_type": "markdown",
      "source": [
        "The sequential model from Keras was used, which means that the layers were added one after the other. The first layer is the Dense layer (full connection layer) with 64 neurons, ReLU activation function and L2 regularization. Added a Dropout layer with a rate of 0.2, which means 20% of neurons are randomly turned off during training to prevent overfitting. The addition of Dense and Dropout layers continued, and the last layer is a Dense layer with 3 neurons (one per class) and a softmax activation function, which is typically used in multi-class classification."
      ],
      "metadata": {
        "id": "gdAgq8Ywufk1"
      }
    },
    {
      "cell_type": "code",
      "source": [
        "#Rate the model\n",
        "loss, accuracy = model.evaluate(X_test, y_test_categorical, verbose=0)\n",
        "\n",
        "print('Test loss:', loss)\n",
        "print('Test accuracy:', accuracy)\n"
      ],
      "metadata": {
        "colab": {
          "base_uri": "https://localhost:8080/"
        },
        "id": "wSaXOGVK7HfT",
        "outputId": "ce4afa15-c622-4ecc-c0f1-b4c0e4f8a494"
      },
      "execution_count": 36,
      "outputs": [
        {
          "output_type": "stream",
          "name": "stdout",
          "text": [
            "Test loss: 1.0558794736862183\n",
            "Test accuracy: 0.5789473652839661\n"
          ]
        }
      ]
    },
    {
      "cell_type": "code",
      "source": [
        "from numpy import argmax\n",
        "\n",
        "predictions = model.predict(X_test)\n",
        "\n",
        "predicted_labels = argmax(predictions, axis=1)\n"
      ],
      "metadata": {
        "colab": {
          "base_uri": "https://localhost:8080/"
        },
        "id": "9exFGfBn7MI0",
        "outputId": "a6110689-06fb-4e0d-e95f-851cd9ea3df1"
      },
      "execution_count": 37,
      "outputs": [
        {
          "output_type": "stream",
          "name": "stdout",
          "text": [
            "24/24 [==============================] - 0s 1ms/step\n"
          ]
        }
      ]
    },
    {
      "cell_type": "code",
      "source": [
        "from sklearn.metrics import classification_report, confusion_matrix\n",
        "\n",
        "#Generate classification report\n",
        "print(classification_report(y_test, predicted_labels))\n",
        "\n",
        "#Generate confusion matrix\n",
        "print(confusion_matrix(y_test, predicted_labels))\n"
      ],
      "metadata": {
        "colab": {
          "base_uri": "https://localhost:8080/"
        },
        "id": "Aazp6aX97Uvk",
        "outputId": "7d43c9bb-13db-46b0-e0ed-150db387138a"
      },
      "execution_count": 38,
      "outputs": [
        {
          "output_type": "stream",
          "name": "stdout",
          "text": [
            "              precision    recall  f1-score   support\n",
            "\n",
            "           0       0.35      0.41      0.38       184\n",
            "           1       0.64      0.64      0.64       288\n",
            "           2       0.72      0.63      0.67       288\n",
            "\n",
            "    accuracy                           0.58       760\n",
            "   macro avg       0.57      0.56      0.56       760\n",
            "weighted avg       0.60      0.58      0.59       760\n",
            "\n",
            "[[ 76  66  42]\n",
            " [ 75 183  30]\n",
            " [ 68  39 181]]\n"
          ]
        }
      ]
    },
    {
      "cell_type": "markdown",
      "source": [
        "Create the table with the real and predicted result for one team (in this example Paris Saint-Germain):"
      ],
      "metadata": {
        "id": "RhQ9p7PXwb-L"
      }
    },
    {
      "cell_type": "code",
      "source": [
        "team_encoder = LabelEncoder()\n",
        "team_encoder.fit(df['team'])\n",
        "team_decoder = {code: team for code, team in enumerate(team_encoder.classes_)}\n",
        "\n",
        "opponent_encoder = LabelEncoder()\n",
        "opponent_encoder.fit(df['opponent'])\n",
        "opponent_decoder = {code: opponent for code, opponent in enumerate(opponent_encoder.classes_)}\n",
        "\n",
        "#Create a new DataFrame with match information\n",
        "results_df = pd.DataFrame(columns=['team_A', 'team_B', 'home/away', 'date', 'result', 'predicted_result'])\n",
        "\n",
        "team_code = 21\n",
        "team_name = team_decoder[team_code]\n",
        "\n",
        "import numpy as np\n",
        "\n",
        "for i, row in test.iterrows():\n",
        "    if row['team'] == team_code or row['opponent'] == team_code:\n",
        "        team_A = team_decoder[row['team']]\n",
        "        team_B = opponent_decoder[row['opponent']]\n",
        "        home_away = 'Home' if row['venue'] == 'home' else 'Away'\n",
        "        date = row['date']\n",
        "        result = row['result']\n",
        "        predicted_probs = model.predict(np.expand_dims(X_test[i], axis=0))[0]\n",
        "        predicted_result = np.argmax(predicted_probs)\n",
        "\n",
        "        results_df = results_df.append({'team_A': team_A, 'team_B': team_B, 'home/away': home_away,\n",
        "                                        'date': date, 'result': result, 'predicted_result': predicted_result},\n",
        "                                       ignore_index=True)\n",
        "\n",
        "print(results_df)\n"
      ],
      "metadata": {
        "colab": {
          "base_uri": "https://localhost:8080/"
        },
        "id": "6n5yckIJ9W7E",
        "outputId": "58c330db-b2d1-4e80-9821-ac82b44cade1"
      },
      "execution_count": 40,
      "outputs": [
        {
          "output_type": "stream",
          "name": "stdout",
          "text": [
            "1/1 [==============================] - 0s 33ms/step\n",
            "1/1 [==============================] - 0s 34ms/step\n",
            "1/1 [==============================] - 0s 24ms/step\n"
          ]
        },
        {
          "output_type": "stream",
          "name": "stderr",
          "text": [
            "<ipython-input-40-2570cbf18410>:27: FutureWarning: The frame.append method is deprecated and will be removed from pandas in a future version. Use pandas.concat instead.\n",
            "  results_df = results_df.append({'team_A': team_A, 'team_B': team_B, 'home/away': home_away,\n",
            "<ipython-input-40-2570cbf18410>:27: FutureWarning: The frame.append method is deprecated and will be removed from pandas in a future version. Use pandas.concat instead.\n",
            "  results_df = results_df.append({'team_A': team_A, 'team_B': team_B, 'home/away': home_away,\n",
            "<ipython-input-40-2570cbf18410>:27: FutureWarning: The frame.append method is deprecated and will be removed from pandas in a future version. Use pandas.concat instead.\n",
            "  results_df = results_df.append({'team_A': team_A, 'team_B': team_B, 'home/away': home_away,\n"
          ]
        },
        {
          "output_type": "stream",
          "name": "stdout",
          "text": [
            "1/1 [==============================] - 0s 23ms/step\n",
            "1/1 [==============================] - 0s 21ms/step\n",
            "1/1 [==============================] - 0s 24ms/step\n"
          ]
        },
        {
          "output_type": "stream",
          "name": "stderr",
          "text": [
            "<ipython-input-40-2570cbf18410>:27: FutureWarning: The frame.append method is deprecated and will be removed from pandas in a future version. Use pandas.concat instead.\n",
            "  results_df = results_df.append({'team_A': team_A, 'team_B': team_B, 'home/away': home_away,\n",
            "<ipython-input-40-2570cbf18410>:27: FutureWarning: The frame.append method is deprecated and will be removed from pandas in a future version. Use pandas.concat instead.\n",
            "  results_df = results_df.append({'team_A': team_A, 'team_B': team_B, 'home/away': home_away,\n",
            "<ipython-input-40-2570cbf18410>:27: FutureWarning: The frame.append method is deprecated and will be removed from pandas in a future version. Use pandas.concat instead.\n",
            "  results_df = results_df.append({'team_A': team_A, 'team_B': team_B, 'home/away': home_away,\n"
          ]
        },
        {
          "output_type": "stream",
          "name": "stdout",
          "text": [
            "1/1 [==============================] - 0s 27ms/step\n",
            "1/1 [==============================] - 0s 21ms/step\n",
            "1/1 [==============================] - 0s 22ms/step\n"
          ]
        },
        {
          "output_type": "stream",
          "name": "stderr",
          "text": [
            "<ipython-input-40-2570cbf18410>:27: FutureWarning: The frame.append method is deprecated and will be removed from pandas in a future version. Use pandas.concat instead.\n",
            "  results_df = results_df.append({'team_A': team_A, 'team_B': team_B, 'home/away': home_away,\n",
            "<ipython-input-40-2570cbf18410>:27: FutureWarning: The frame.append method is deprecated and will be removed from pandas in a future version. Use pandas.concat instead.\n",
            "  results_df = results_df.append({'team_A': team_A, 'team_B': team_B, 'home/away': home_away,\n",
            "<ipython-input-40-2570cbf18410>:27: FutureWarning: The frame.append method is deprecated and will be removed from pandas in a future version. Use pandas.concat instead.\n",
            "  results_df = results_df.append({'team_A': team_A, 'team_B': team_B, 'home/away': home_away,\n"
          ]
        },
        {
          "output_type": "stream",
          "name": "stdout",
          "text": [
            "1/1 [==============================] - 0s 25ms/step\n",
            "1/1 [==============================] - 0s 24ms/step\n",
            "1/1 [==============================] - 0s 21ms/step\n"
          ]
        },
        {
          "output_type": "stream",
          "name": "stderr",
          "text": [
            "<ipython-input-40-2570cbf18410>:27: FutureWarning: The frame.append method is deprecated and will be removed from pandas in a future version. Use pandas.concat instead.\n",
            "  results_df = results_df.append({'team_A': team_A, 'team_B': team_B, 'home/away': home_away,\n",
            "<ipython-input-40-2570cbf18410>:27: FutureWarning: The frame.append method is deprecated and will be removed from pandas in a future version. Use pandas.concat instead.\n",
            "  results_df = results_df.append({'team_A': team_A, 'team_B': team_B, 'home/away': home_away,\n",
            "<ipython-input-40-2570cbf18410>:27: FutureWarning: The frame.append method is deprecated and will be removed from pandas in a future version. Use pandas.concat instead.\n",
            "  results_df = results_df.append({'team_A': team_A, 'team_B': team_B, 'home/away': home_away,\n"
          ]
        },
        {
          "output_type": "stream",
          "name": "stdout",
          "text": [
            "1/1 [==============================] - 0s 25ms/step\n",
            "1/1 [==============================] - 0s 22ms/step\n",
            "1/1 [==============================] - 0s 21ms/step\n"
          ]
        },
        {
          "output_type": "stream",
          "name": "stderr",
          "text": [
            "<ipython-input-40-2570cbf18410>:27: FutureWarning: The frame.append method is deprecated and will be removed from pandas in a future version. Use pandas.concat instead.\n",
            "  results_df = results_df.append({'team_A': team_A, 'team_B': team_B, 'home/away': home_away,\n",
            "<ipython-input-40-2570cbf18410>:27: FutureWarning: The frame.append method is deprecated and will be removed from pandas in a future version. Use pandas.concat instead.\n",
            "  results_df = results_df.append({'team_A': team_A, 'team_B': team_B, 'home/away': home_away,\n",
            "<ipython-input-40-2570cbf18410>:27: FutureWarning: The frame.append method is deprecated and will be removed from pandas in a future version. Use pandas.concat instead.\n",
            "  results_df = results_df.append({'team_A': team_A, 'team_B': team_B, 'home/away': home_away,\n"
          ]
        },
        {
          "output_type": "stream",
          "name": "stdout",
          "text": [
            "1/1 [==============================] - 0s 31ms/step\n",
            "1/1 [==============================] - 0s 27ms/step\n",
            "1/1 [==============================] - 0s 23ms/step\n"
          ]
        },
        {
          "output_type": "stream",
          "name": "stderr",
          "text": [
            "<ipython-input-40-2570cbf18410>:27: FutureWarning: The frame.append method is deprecated and will be removed from pandas in a future version. Use pandas.concat instead.\n",
            "  results_df = results_df.append({'team_A': team_A, 'team_B': team_B, 'home/away': home_away,\n",
            "<ipython-input-40-2570cbf18410>:27: FutureWarning: The frame.append method is deprecated and will be removed from pandas in a future version. Use pandas.concat instead.\n",
            "  results_df = results_df.append({'team_A': team_A, 'team_B': team_B, 'home/away': home_away,\n",
            "<ipython-input-40-2570cbf18410>:27: FutureWarning: The frame.append method is deprecated and will be removed from pandas in a future version. Use pandas.concat instead.\n",
            "  results_df = results_df.append({'team_A': team_A, 'team_B': team_B, 'home/away': home_away,\n"
          ]
        },
        {
          "output_type": "stream",
          "name": "stdout",
          "text": [
            "1/1 [==============================] - 0s 26ms/step\n",
            "1/1 [==============================] - 0s 24ms/step\n",
            "1/1 [==============================] - 0s 30ms/step\n"
          ]
        },
        {
          "output_type": "stream",
          "name": "stderr",
          "text": [
            "<ipython-input-40-2570cbf18410>:27: FutureWarning: The frame.append method is deprecated and will be removed from pandas in a future version. Use pandas.concat instead.\n",
            "  results_df = results_df.append({'team_A': team_A, 'team_B': team_B, 'home/away': home_away,\n",
            "<ipython-input-40-2570cbf18410>:27: FutureWarning: The frame.append method is deprecated and will be removed from pandas in a future version. Use pandas.concat instead.\n",
            "  results_df = results_df.append({'team_A': team_A, 'team_B': team_B, 'home/away': home_away,\n",
            "<ipython-input-40-2570cbf18410>:27: FutureWarning: The frame.append method is deprecated and will be removed from pandas in a future version. Use pandas.concat instead.\n",
            "  results_df = results_df.append({'team_A': team_A, 'team_B': team_B, 'home/away': home_away,\n"
          ]
        },
        {
          "output_type": "stream",
          "name": "stdout",
          "text": [
            "1/1 [==============================] - 0s 23ms/step\n",
            "1/1 [==============================] - 0s 22ms/step\n",
            "1/1 [==============================] - 0s 26ms/step\n"
          ]
        },
        {
          "output_type": "stream",
          "name": "stderr",
          "text": [
            "<ipython-input-40-2570cbf18410>:27: FutureWarning: The frame.append method is deprecated and will be removed from pandas in a future version. Use pandas.concat instead.\n",
            "  results_df = results_df.append({'team_A': team_A, 'team_B': team_B, 'home/away': home_away,\n",
            "<ipython-input-40-2570cbf18410>:27: FutureWarning: The frame.append method is deprecated and will be removed from pandas in a future version. Use pandas.concat instead.\n",
            "  results_df = results_df.append({'team_A': team_A, 'team_B': team_B, 'home/away': home_away,\n",
            "<ipython-input-40-2570cbf18410>:27: FutureWarning: The frame.append method is deprecated and will be removed from pandas in a future version. Use pandas.concat instead.\n",
            "  results_df = results_df.append({'team_A': team_A, 'team_B': team_B, 'home/away': home_away,\n"
          ]
        },
        {
          "output_type": "stream",
          "name": "stdout",
          "text": [
            "1/1 [==============================] - 0s 24ms/step\n",
            "1/1 [==============================] - 0s 26ms/step\n",
            "1/1 [==============================] - 0s 22ms/step\n"
          ]
        },
        {
          "output_type": "stream",
          "name": "stderr",
          "text": [
            "<ipython-input-40-2570cbf18410>:27: FutureWarning: The frame.append method is deprecated and will be removed from pandas in a future version. Use pandas.concat instead.\n",
            "  results_df = results_df.append({'team_A': team_A, 'team_B': team_B, 'home/away': home_away,\n",
            "<ipython-input-40-2570cbf18410>:27: FutureWarning: The frame.append method is deprecated and will be removed from pandas in a future version. Use pandas.concat instead.\n",
            "  results_df = results_df.append({'team_A': team_A, 'team_B': team_B, 'home/away': home_away,\n",
            "<ipython-input-40-2570cbf18410>:27: FutureWarning: The frame.append method is deprecated and will be removed from pandas in a future version. Use pandas.concat instead.\n",
            "  results_df = results_df.append({'team_A': team_A, 'team_B': team_B, 'home/away': home_away,\n"
          ]
        },
        {
          "output_type": "stream",
          "name": "stdout",
          "text": [
            "1/1 [==============================] - 0s 29ms/step\n",
            "1/1 [==============================] - 0s 22ms/step\n",
            "1/1 [==============================] - 0s 21ms/step\n"
          ]
        },
        {
          "output_type": "stream",
          "name": "stderr",
          "text": [
            "<ipython-input-40-2570cbf18410>:27: FutureWarning: The frame.append method is deprecated and will be removed from pandas in a future version. Use pandas.concat instead.\n",
            "  results_df = results_df.append({'team_A': team_A, 'team_B': team_B, 'home/away': home_away,\n",
            "<ipython-input-40-2570cbf18410>:27: FutureWarning: The frame.append method is deprecated and will be removed from pandas in a future version. Use pandas.concat instead.\n",
            "  results_df = results_df.append({'team_A': team_A, 'team_B': team_B, 'home/away': home_away,\n",
            "<ipython-input-40-2570cbf18410>:27: FutureWarning: The frame.append method is deprecated and will be removed from pandas in a future version. Use pandas.concat instead.\n",
            "  results_df = results_df.append({'team_A': team_A, 'team_B': team_B, 'home/away': home_away,\n"
          ]
        },
        {
          "output_type": "stream",
          "name": "stdout",
          "text": [
            "1/1 [==============================] - 0s 24ms/step\n",
            "1/1 [==============================] - 0s 25ms/step\n",
            "1/1 [==============================] - 0s 26ms/step\n"
          ]
        },
        {
          "output_type": "stream",
          "name": "stderr",
          "text": [
            "<ipython-input-40-2570cbf18410>:27: FutureWarning: The frame.append method is deprecated and will be removed from pandas in a future version. Use pandas.concat instead.\n",
            "  results_df = results_df.append({'team_A': team_A, 'team_B': team_B, 'home/away': home_away,\n",
            "<ipython-input-40-2570cbf18410>:27: FutureWarning: The frame.append method is deprecated and will be removed from pandas in a future version. Use pandas.concat instead.\n",
            "  results_df = results_df.append({'team_A': team_A, 'team_B': team_B, 'home/away': home_away,\n",
            "<ipython-input-40-2570cbf18410>:27: FutureWarning: The frame.append method is deprecated and will be removed from pandas in a future version. Use pandas.concat instead.\n",
            "  results_df = results_df.append({'team_A': team_A, 'team_B': team_B, 'home/away': home_away,\n"
          ]
        },
        {
          "output_type": "stream",
          "name": "stdout",
          "text": [
            "1/1 [==============================] - 0s 23ms/step\n",
            "1/1 [==============================] - 0s 23ms/step\n",
            "1/1 [==============================] - 0s 22ms/step\n"
          ]
        },
        {
          "output_type": "stream",
          "name": "stderr",
          "text": [
            "<ipython-input-40-2570cbf18410>:27: FutureWarning: The frame.append method is deprecated and will be removed from pandas in a future version. Use pandas.concat instead.\n",
            "  results_df = results_df.append({'team_A': team_A, 'team_B': team_B, 'home/away': home_away,\n",
            "<ipython-input-40-2570cbf18410>:27: FutureWarning: The frame.append method is deprecated and will be removed from pandas in a future version. Use pandas.concat instead.\n",
            "  results_df = results_df.append({'team_A': team_A, 'team_B': team_B, 'home/away': home_away,\n",
            "<ipython-input-40-2570cbf18410>:27: FutureWarning: The frame.append method is deprecated and will be removed from pandas in a future version. Use pandas.concat instead.\n",
            "  results_df = results_df.append({'team_A': team_A, 'team_B': team_B, 'home/away': home_away,\n"
          ]
        },
        {
          "output_type": "stream",
          "name": "stdout",
          "text": [
            "1/1 [==============================] - 0s 27ms/step\n",
            "1/1 [==============================] - 0s 23ms/step\n",
            "1/1 [==============================] - 0s 23ms/step\n"
          ]
        },
        {
          "output_type": "stream",
          "name": "stderr",
          "text": [
            "<ipython-input-40-2570cbf18410>:27: FutureWarning: The frame.append method is deprecated and will be removed from pandas in a future version. Use pandas.concat instead.\n",
            "  results_df = results_df.append({'team_A': team_A, 'team_B': team_B, 'home/away': home_away,\n",
            "<ipython-input-40-2570cbf18410>:27: FutureWarning: The frame.append method is deprecated and will be removed from pandas in a future version. Use pandas.concat instead.\n",
            "  results_df = results_df.append({'team_A': team_A, 'team_B': team_B, 'home/away': home_away,\n",
            "<ipython-input-40-2570cbf18410>:27: FutureWarning: The frame.append method is deprecated and will be removed from pandas in a future version. Use pandas.concat instead.\n",
            "  results_df = results_df.append({'team_A': team_A, 'team_B': team_B, 'home/away': home_away,\n"
          ]
        },
        {
          "output_type": "stream",
          "name": "stdout",
          "text": [
            "1/1 [==============================] - 0s 29ms/step\n",
            "1/1 [==============================] - 0s 27ms/step\n",
            "1/1 [==============================] - 0s 22ms/step\n"
          ]
        },
        {
          "output_type": "stream",
          "name": "stderr",
          "text": [
            "<ipython-input-40-2570cbf18410>:27: FutureWarning: The frame.append method is deprecated and will be removed from pandas in a future version. Use pandas.concat instead.\n",
            "  results_df = results_df.append({'team_A': team_A, 'team_B': team_B, 'home/away': home_away,\n",
            "<ipython-input-40-2570cbf18410>:27: FutureWarning: The frame.append method is deprecated and will be removed from pandas in a future version. Use pandas.concat instead.\n",
            "  results_df = results_df.append({'team_A': team_A, 'team_B': team_B, 'home/away': home_away,\n",
            "<ipython-input-40-2570cbf18410>:27: FutureWarning: The frame.append method is deprecated and will be removed from pandas in a future version. Use pandas.concat instead.\n",
            "  results_df = results_df.append({'team_A': team_A, 'team_B': team_B, 'home/away': home_away,\n"
          ]
        },
        {
          "output_type": "stream",
          "name": "stdout",
          "text": [
            "1/1 [==============================] - 0s 22ms/step\n",
            "1/1 [==============================] - 0s 22ms/step\n",
            "1/1 [==============================] - 0s 22ms/step\n",
            "1/1 [==============================] - ETA: 0s"
          ]
        },
        {
          "output_type": "stream",
          "name": "stderr",
          "text": [
            "<ipython-input-40-2570cbf18410>:27: FutureWarning: The frame.append method is deprecated and will be removed from pandas in a future version. Use pandas.concat instead.\n",
            "  results_df = results_df.append({'team_A': team_A, 'team_B': team_B, 'home/away': home_away,\n",
            "<ipython-input-40-2570cbf18410>:27: FutureWarning: The frame.append method is deprecated and will be removed from pandas in a future version. Use pandas.concat instead.\n",
            "  results_df = results_df.append({'team_A': team_A, 'team_B': team_B, 'home/away': home_away,\n",
            "<ipython-input-40-2570cbf18410>:27: FutureWarning: The frame.append method is deprecated and will be removed from pandas in a future version. Use pandas.concat instead.\n",
            "  results_df = results_df.append({'team_A': team_A, 'team_B': team_B, 'home/away': home_away,\n"
          ]
        },
        {
          "output_type": "stream",
          "name": "stdout",
          "text": [
            "1/1 [==============================] - 0s 21ms/step\n",
            "1/1 [==============================] - 0s 21ms/step\n",
            "1/1 [==============================] - 0s 22ms/step\n"
          ]
        },
        {
          "output_type": "stream",
          "name": "stderr",
          "text": [
            "<ipython-input-40-2570cbf18410>:27: FutureWarning: The frame.append method is deprecated and will be removed from pandas in a future version. Use pandas.concat instead.\n",
            "  results_df = results_df.append({'team_A': team_A, 'team_B': team_B, 'home/away': home_away,\n",
            "<ipython-input-40-2570cbf18410>:27: FutureWarning: The frame.append method is deprecated and will be removed from pandas in a future version. Use pandas.concat instead.\n",
            "  results_df = results_df.append({'team_A': team_A, 'team_B': team_B, 'home/away': home_away,\n",
            "<ipython-input-40-2570cbf18410>:27: FutureWarning: The frame.append method is deprecated and will be removed from pandas in a future version. Use pandas.concat instead.\n",
            "  results_df = results_df.append({'team_A': team_A, 'team_B': team_B, 'home/away': home_away,\n"
          ]
        },
        {
          "output_type": "stream",
          "name": "stdout",
          "text": [
            "1/1 [==============================] - 0s 23ms/step\n",
            "1/1 [==============================] - 0s 26ms/step\n",
            "1/1 [==============================] - 0s 22ms/step\n"
          ]
        },
        {
          "output_type": "stream",
          "name": "stderr",
          "text": [
            "<ipython-input-40-2570cbf18410>:27: FutureWarning: The frame.append method is deprecated and will be removed from pandas in a future version. Use pandas.concat instead.\n",
            "  results_df = results_df.append({'team_A': team_A, 'team_B': team_B, 'home/away': home_away,\n",
            "<ipython-input-40-2570cbf18410>:27: FutureWarning: The frame.append method is deprecated and will be removed from pandas in a future version. Use pandas.concat instead.\n",
            "  results_df = results_df.append({'team_A': team_A, 'team_B': team_B, 'home/away': home_away,\n",
            "<ipython-input-40-2570cbf18410>:27: FutureWarning: The frame.append method is deprecated and will be removed from pandas in a future version. Use pandas.concat instead.\n",
            "  results_df = results_df.append({'team_A': team_A, 'team_B': team_B, 'home/away': home_away,\n"
          ]
        },
        {
          "output_type": "stream",
          "name": "stdout",
          "text": [
            "1/1 [==============================] - 0s 24ms/step\n",
            "1/1 [==============================] - 0s 21ms/step\n",
            "1/1 [==============================] - 0s 21ms/step\n"
          ]
        },
        {
          "output_type": "stream",
          "name": "stderr",
          "text": [
            "<ipython-input-40-2570cbf18410>:27: FutureWarning: The frame.append method is deprecated and will be removed from pandas in a future version. Use pandas.concat instead.\n",
            "  results_df = results_df.append({'team_A': team_A, 'team_B': team_B, 'home/away': home_away,\n",
            "<ipython-input-40-2570cbf18410>:27: FutureWarning: The frame.append method is deprecated and will be removed from pandas in a future version. Use pandas.concat instead.\n",
            "  results_df = results_df.append({'team_A': team_A, 'team_B': team_B, 'home/away': home_away,\n",
            "<ipython-input-40-2570cbf18410>:27: FutureWarning: The frame.append method is deprecated and will be removed from pandas in a future version. Use pandas.concat instead.\n",
            "  results_df = results_df.append({'team_A': team_A, 'team_B': team_B, 'home/away': home_away,\n"
          ]
        },
        {
          "output_type": "stream",
          "name": "stdout",
          "text": [
            "1/1 [==============================] - 0s 24ms/step\n",
            "1/1 [==============================] - 0s 22ms/step\n",
            "1/1 [==============================] - 0s 23ms/step\n"
          ]
        },
        {
          "output_type": "stream",
          "name": "stderr",
          "text": [
            "<ipython-input-40-2570cbf18410>:27: FutureWarning: The frame.append method is deprecated and will be removed from pandas in a future version. Use pandas.concat instead.\n",
            "  results_df = results_df.append({'team_A': team_A, 'team_B': team_B, 'home/away': home_away,\n",
            "<ipython-input-40-2570cbf18410>:27: FutureWarning: The frame.append method is deprecated and will be removed from pandas in a future version. Use pandas.concat instead.\n",
            "  results_df = results_df.append({'team_A': team_A, 'team_B': team_B, 'home/away': home_away,\n",
            "<ipython-input-40-2570cbf18410>:27: FutureWarning: The frame.append method is deprecated and will be removed from pandas in a future version. Use pandas.concat instead.\n",
            "  results_df = results_df.append({'team_A': team_A, 'team_B': team_B, 'home/away': home_away,\n"
          ]
        },
        {
          "output_type": "stream",
          "name": "stdout",
          "text": [
            "1/1 [==============================] - 0s 32ms/step\n",
            "1/1 [==============================] - 0s 25ms/step\n",
            "1/1 [==============================] - 0s 24ms/step\n"
          ]
        },
        {
          "output_type": "stream",
          "name": "stderr",
          "text": [
            "<ipython-input-40-2570cbf18410>:27: FutureWarning: The frame.append method is deprecated and will be removed from pandas in a future version. Use pandas.concat instead.\n",
            "  results_df = results_df.append({'team_A': team_A, 'team_B': team_B, 'home/away': home_away,\n",
            "<ipython-input-40-2570cbf18410>:27: FutureWarning: The frame.append method is deprecated and will be removed from pandas in a future version. Use pandas.concat instead.\n",
            "  results_df = results_df.append({'team_A': team_A, 'team_B': team_B, 'home/away': home_away,\n",
            "<ipython-input-40-2570cbf18410>:27: FutureWarning: The frame.append method is deprecated and will be removed from pandas in a future version. Use pandas.concat instead.\n",
            "  results_df = results_df.append({'team_A': team_A, 'team_B': team_B, 'home/away': home_away,\n"
          ]
        },
        {
          "output_type": "stream",
          "name": "stdout",
          "text": [
            "1/1 [==============================] - 0s 24ms/step\n",
            "1/1 [==============================] - 0s 24ms/step\n",
            "1/1 [==============================] - 0s 27ms/step\n"
          ]
        },
        {
          "output_type": "stream",
          "name": "stderr",
          "text": [
            "<ipython-input-40-2570cbf18410>:27: FutureWarning: The frame.append method is deprecated and will be removed from pandas in a future version. Use pandas.concat instead.\n",
            "  results_df = results_df.append({'team_A': team_A, 'team_B': team_B, 'home/away': home_away,\n",
            "<ipython-input-40-2570cbf18410>:27: FutureWarning: The frame.append method is deprecated and will be removed from pandas in a future version. Use pandas.concat instead.\n",
            "  results_df = results_df.append({'team_A': team_A, 'team_B': team_B, 'home/away': home_away,\n",
            "<ipython-input-40-2570cbf18410>:27: FutureWarning: The frame.append method is deprecated and will be removed from pandas in a future version. Use pandas.concat instead.\n",
            "  results_df = results_df.append({'team_A': team_A, 'team_B': team_B, 'home/away': home_away,\n"
          ]
        },
        {
          "output_type": "stream",
          "name": "stdout",
          "text": [
            "1/1 [==============================] - 0s 23ms/step\n",
            "1/1 [==============================] - 0s 22ms/step\n",
            "1/1 [==============================] - 0s 26ms/step\n"
          ]
        },
        {
          "output_type": "stream",
          "name": "stderr",
          "text": [
            "<ipython-input-40-2570cbf18410>:27: FutureWarning: The frame.append method is deprecated and will be removed from pandas in a future version. Use pandas.concat instead.\n",
            "  results_df = results_df.append({'team_A': team_A, 'team_B': team_B, 'home/away': home_away,\n",
            "<ipython-input-40-2570cbf18410>:27: FutureWarning: The frame.append method is deprecated and will be removed from pandas in a future version. Use pandas.concat instead.\n",
            "  results_df = results_df.append({'team_A': team_A, 'team_B': team_B, 'home/away': home_away,\n",
            "<ipython-input-40-2570cbf18410>:27: FutureWarning: The frame.append method is deprecated and will be removed from pandas in a future version. Use pandas.concat instead.\n",
            "  results_df = results_df.append({'team_A': team_A, 'team_B': team_B, 'home/away': home_away,\n"
          ]
        },
        {
          "output_type": "stream",
          "name": "stdout",
          "text": [
            "1/1 [==============================] - 0s 23ms/step\n",
            "1/1 [==============================] - 0s 24ms/step\n",
            "1/1 [==============================] - 0s 22ms/step\n"
          ]
        },
        {
          "output_type": "stream",
          "name": "stderr",
          "text": [
            "<ipython-input-40-2570cbf18410>:27: FutureWarning: The frame.append method is deprecated and will be removed from pandas in a future version. Use pandas.concat instead.\n",
            "  results_df = results_df.append({'team_A': team_A, 'team_B': team_B, 'home/away': home_away,\n",
            "<ipython-input-40-2570cbf18410>:27: FutureWarning: The frame.append method is deprecated and will be removed from pandas in a future version. Use pandas.concat instead.\n",
            "  results_df = results_df.append({'team_A': team_A, 'team_B': team_B, 'home/away': home_away,\n",
            "<ipython-input-40-2570cbf18410>:27: FutureWarning: The frame.append method is deprecated and will be removed from pandas in a future version. Use pandas.concat instead.\n",
            "  results_df = results_df.append({'team_A': team_A, 'team_B': team_B, 'home/away': home_away,\n"
          ]
        },
        {
          "output_type": "stream",
          "name": "stdout",
          "text": [
            "1/1 [==============================] - 0s 22ms/step\n",
            "1/1 [==============================] - 0s 23ms/step\n",
            "1/1 [==============================] - 0s 22ms/step\n"
          ]
        },
        {
          "output_type": "stream",
          "name": "stderr",
          "text": [
            "<ipython-input-40-2570cbf18410>:27: FutureWarning: The frame.append method is deprecated and will be removed from pandas in a future version. Use pandas.concat instead.\n",
            "  results_df = results_df.append({'team_A': team_A, 'team_B': team_B, 'home/away': home_away,\n",
            "<ipython-input-40-2570cbf18410>:27: FutureWarning: The frame.append method is deprecated and will be removed from pandas in a future version. Use pandas.concat instead.\n",
            "  results_df = results_df.append({'team_A': team_A, 'team_B': team_B, 'home/away': home_away,\n",
            "<ipython-input-40-2570cbf18410>:27: FutureWarning: The frame.append method is deprecated and will be removed from pandas in a future version. Use pandas.concat instead.\n",
            "  results_df = results_df.append({'team_A': team_A, 'team_B': team_B, 'home/away': home_away,\n"
          ]
        },
        {
          "output_type": "stream",
          "name": "stdout",
          "text": [
            "1/1 [==============================] - 0s 26ms/step\n",
            "1/1 [==============================] - 0s 23ms/step\n",
            "1/1 [==============================] - 0s 23ms/step\n"
          ]
        },
        {
          "output_type": "stream",
          "name": "stderr",
          "text": [
            "<ipython-input-40-2570cbf18410>:27: FutureWarning: The frame.append method is deprecated and will be removed from pandas in a future version. Use pandas.concat instead.\n",
            "  results_df = results_df.append({'team_A': team_A, 'team_B': team_B, 'home/away': home_away,\n",
            "<ipython-input-40-2570cbf18410>:27: FutureWarning: The frame.append method is deprecated and will be removed from pandas in a future version. Use pandas.concat instead.\n",
            "  results_df = results_df.append({'team_A': team_A, 'team_B': team_B, 'home/away': home_away,\n",
            "<ipython-input-40-2570cbf18410>:27: FutureWarning: The frame.append method is deprecated and will be removed from pandas in a future version. Use pandas.concat instead.\n",
            "  results_df = results_df.append({'team_A': team_A, 'team_B': team_B, 'home/away': home_away,\n"
          ]
        },
        {
          "output_type": "stream",
          "name": "stdout",
          "text": [
            "1/1 [==============================] - 0s 23ms/step\n",
            "   team_A team_B home/away       date result predicted_result\n",
            "0      21      7      Away 2022-08-06      2                2\n",
            "1      21     17      Away 2022-08-13      2                2\n",
            "2      21     11      Away 2022-08-21      2                2\n",
            "3      21     16      Away 2022-08-28      0                2\n",
            "4      21     26      Away 2022-08-31      2                2\n",
            "..    ...    ...       ...        ...    ...              ...\n",
            "71      0     21      Away 2023-05-13      1                0\n",
            "72     27     21      Away 2022-10-29      1                2\n",
            "73     27     21      Away 2023-05-07      1                2\n",
            "74      2     21      Away 2023-01-11      1                0\n",
            "75      2     21      Away 2023-04-21      1                2\n",
            "\n",
            "[76 rows x 6 columns]\n"
          ]
        },
        {
          "output_type": "stream",
          "name": "stderr",
          "text": [
            "<ipython-input-40-2570cbf18410>:27: FutureWarning: The frame.append method is deprecated and will be removed from pandas in a future version. Use pandas.concat instead.\n",
            "  results_df = results_df.append({'team_A': team_A, 'team_B': team_B, 'home/away': home_away,\n"
          ]
        }
      ]
    },
    {
      "cell_type": "code",
      "source": [
        "results_df"
      ],
      "metadata": {
        "colab": {
          "base_uri": "https://localhost:8080/",
          "height": 423
        },
        "id": "wDJyk7M19wfr",
        "outputId": "97c259a5-a401-4d40-b985-e2ef59ce90d8"
      },
      "execution_count": 41,
      "outputs": [
        {
          "output_type": "execute_result",
          "data": {
            "text/plain": [
              "   team_A team_B home/away       date result predicted_result\n",
              "0      21      7      Away 2022-08-06      2                2\n",
              "1      21     17      Away 2022-08-13      2                2\n",
              "2      21     11      Away 2022-08-21      2                2\n",
              "3      21     16      Away 2022-08-28      0                2\n",
              "4      21     26      Away 2022-08-31      2                2\n",
              "..    ...    ...       ...        ...    ...              ...\n",
              "71      0     21      Away 2023-05-13      1                0\n",
              "72     27     21      Away 2022-10-29      1                2\n",
              "73     27     21      Away 2023-05-07      1                2\n",
              "74      2     21      Away 2023-01-11      1                0\n",
              "75      2     21      Away 2023-04-21      1                2\n",
              "\n",
              "[76 rows x 6 columns]"
            ],
            "text/html": [
              "\n",
              "  <div id=\"df-9c231cf8-64d9-4043-9510-efe81be2a5b6\">\n",
              "    <div class=\"colab-df-container\">\n",
              "      <div>\n",
              "<style scoped>\n",
              "    .dataframe tbody tr th:only-of-type {\n",
              "        vertical-align: middle;\n",
              "    }\n",
              "\n",
              "    .dataframe tbody tr th {\n",
              "        vertical-align: top;\n",
              "    }\n",
              "\n",
              "    .dataframe thead th {\n",
              "        text-align: right;\n",
              "    }\n",
              "</style>\n",
              "<table border=\"1\" class=\"dataframe\">\n",
              "  <thead>\n",
              "    <tr style=\"text-align: right;\">\n",
              "      <th></th>\n",
              "      <th>team_A</th>\n",
              "      <th>team_B</th>\n",
              "      <th>home/away</th>\n",
              "      <th>date</th>\n",
              "      <th>result</th>\n",
              "      <th>predicted_result</th>\n",
              "    </tr>\n",
              "  </thead>\n",
              "  <tbody>\n",
              "    <tr>\n",
              "      <th>0</th>\n",
              "      <td>21</td>\n",
              "      <td>7</td>\n",
              "      <td>Away</td>\n",
              "      <td>2022-08-06</td>\n",
              "      <td>2</td>\n",
              "      <td>2</td>\n",
              "    </tr>\n",
              "    <tr>\n",
              "      <th>1</th>\n",
              "      <td>21</td>\n",
              "      <td>17</td>\n",
              "      <td>Away</td>\n",
              "      <td>2022-08-13</td>\n",
              "      <td>2</td>\n",
              "      <td>2</td>\n",
              "    </tr>\n",
              "    <tr>\n",
              "      <th>2</th>\n",
              "      <td>21</td>\n",
              "      <td>11</td>\n",
              "      <td>Away</td>\n",
              "      <td>2022-08-21</td>\n",
              "      <td>2</td>\n",
              "      <td>2</td>\n",
              "    </tr>\n",
              "    <tr>\n",
              "      <th>3</th>\n",
              "      <td>21</td>\n",
              "      <td>16</td>\n",
              "      <td>Away</td>\n",
              "      <td>2022-08-28</td>\n",
              "      <td>0</td>\n",
              "      <td>2</td>\n",
              "    </tr>\n",
              "    <tr>\n",
              "      <th>4</th>\n",
              "      <td>21</td>\n",
              "      <td>26</td>\n",
              "      <td>Away</td>\n",
              "      <td>2022-08-31</td>\n",
              "      <td>2</td>\n",
              "      <td>2</td>\n",
              "    </tr>\n",
              "    <tr>\n",
              "      <th>...</th>\n",
              "      <td>...</td>\n",
              "      <td>...</td>\n",
              "      <td>...</td>\n",
              "      <td>...</td>\n",
              "      <td>...</td>\n",
              "      <td>...</td>\n",
              "    </tr>\n",
              "    <tr>\n",
              "      <th>71</th>\n",
              "      <td>0</td>\n",
              "      <td>21</td>\n",
              "      <td>Away</td>\n",
              "      <td>2023-05-13</td>\n",
              "      <td>1</td>\n",
              "      <td>0</td>\n",
              "    </tr>\n",
              "    <tr>\n",
              "      <th>72</th>\n",
              "      <td>27</td>\n",
              "      <td>21</td>\n",
              "      <td>Away</td>\n",
              "      <td>2022-10-29</td>\n",
              "      <td>1</td>\n",
              "      <td>2</td>\n",
              "    </tr>\n",
              "    <tr>\n",
              "      <th>73</th>\n",
              "      <td>27</td>\n",
              "      <td>21</td>\n",
              "      <td>Away</td>\n",
              "      <td>2023-05-07</td>\n",
              "      <td>1</td>\n",
              "      <td>2</td>\n",
              "    </tr>\n",
              "    <tr>\n",
              "      <th>74</th>\n",
              "      <td>2</td>\n",
              "      <td>21</td>\n",
              "      <td>Away</td>\n",
              "      <td>2023-01-11</td>\n",
              "      <td>1</td>\n",
              "      <td>0</td>\n",
              "    </tr>\n",
              "    <tr>\n",
              "      <th>75</th>\n",
              "      <td>2</td>\n",
              "      <td>21</td>\n",
              "      <td>Away</td>\n",
              "      <td>2023-04-21</td>\n",
              "      <td>1</td>\n",
              "      <td>2</td>\n",
              "    </tr>\n",
              "  </tbody>\n",
              "</table>\n",
              "<p>76 rows × 6 columns</p>\n",
              "</div>\n",
              "      <button class=\"colab-df-convert\" onclick=\"convertToInteractive('df-9c231cf8-64d9-4043-9510-efe81be2a5b6')\"\n",
              "              title=\"Convert this dataframe to an interactive table.\"\n",
              "              style=\"display:none;\">\n",
              "        \n",
              "  <svg xmlns=\"http://www.w3.org/2000/svg\" height=\"24px\"viewBox=\"0 0 24 24\"\n",
              "       width=\"24px\">\n",
              "    <path d=\"M0 0h24v24H0V0z\" fill=\"none\"/>\n",
              "    <path d=\"M18.56 5.44l.94 2.06.94-2.06 2.06-.94-2.06-.94-.94-2.06-.94 2.06-2.06.94zm-11 1L8.5 8.5l.94-2.06 2.06-.94-2.06-.94L8.5 2.5l-.94 2.06-2.06.94zm10 10l.94 2.06.94-2.06 2.06-.94-2.06-.94-.94-2.06-.94 2.06-2.06.94z\"/><path d=\"M17.41 7.96l-1.37-1.37c-.4-.4-.92-.59-1.43-.59-.52 0-1.04.2-1.43.59L10.3 9.45l-7.72 7.72c-.78.78-.78 2.05 0 2.83L4 21.41c.39.39.9.59 1.41.59.51 0 1.02-.2 1.41-.59l7.78-7.78 2.81-2.81c.8-.78.8-2.07 0-2.86zM5.41 20L4 18.59l7.72-7.72 1.47 1.35L5.41 20z\"/>\n",
              "  </svg>\n",
              "      </button>\n",
              "      \n",
              "  <style>\n",
              "    .colab-df-container {\n",
              "      display:flex;\n",
              "      flex-wrap:wrap;\n",
              "      gap: 12px;\n",
              "    }\n",
              "\n",
              "    .colab-df-convert {\n",
              "      background-color: #E8F0FE;\n",
              "      border: none;\n",
              "      border-radius: 50%;\n",
              "      cursor: pointer;\n",
              "      display: none;\n",
              "      fill: #1967D2;\n",
              "      height: 32px;\n",
              "      padding: 0 0 0 0;\n",
              "      width: 32px;\n",
              "    }\n",
              "\n",
              "    .colab-df-convert:hover {\n",
              "      background-color: #E2EBFA;\n",
              "      box-shadow: 0px 1px 2px rgba(60, 64, 67, 0.3), 0px 1px 3px 1px rgba(60, 64, 67, 0.15);\n",
              "      fill: #174EA6;\n",
              "    }\n",
              "\n",
              "    [theme=dark] .colab-df-convert {\n",
              "      background-color: #3B4455;\n",
              "      fill: #D2E3FC;\n",
              "    }\n",
              "\n",
              "    [theme=dark] .colab-df-convert:hover {\n",
              "      background-color: #434B5C;\n",
              "      box-shadow: 0px 1px 3px 1px rgba(0, 0, 0, 0.15);\n",
              "      filter: drop-shadow(0px 1px 2px rgba(0, 0, 0, 0.3));\n",
              "      fill: #FFFFFF;\n",
              "    }\n",
              "  </style>\n",
              "\n",
              "      <script>\n",
              "        const buttonEl =\n",
              "          document.querySelector('#df-9c231cf8-64d9-4043-9510-efe81be2a5b6 button.colab-df-convert');\n",
              "        buttonEl.style.display =\n",
              "          google.colab.kernel.accessAllowed ? 'block' : 'none';\n",
              "\n",
              "        async function convertToInteractive(key) {\n",
              "          const element = document.querySelector('#df-9c231cf8-64d9-4043-9510-efe81be2a5b6');\n",
              "          const dataTable =\n",
              "            await google.colab.kernel.invokeFunction('convertToInteractive',\n",
              "                                                     [key], {});\n",
              "          if (!dataTable) return;\n",
              "\n",
              "          const docLinkHtml = 'Like what you see? Visit the ' +\n",
              "            '<a target=\"_blank\" href=https://colab.research.google.com/notebooks/data_table.ipynb>data table notebook</a>'\n",
              "            + ' to learn more about interactive tables.';\n",
              "          element.innerHTML = '';\n",
              "          dataTable['output_type'] = 'display_data';\n",
              "          await google.colab.output.renderOutput(dataTable, element);\n",
              "          const docLink = document.createElement('div');\n",
              "          docLink.innerHTML = docLinkHtml;\n",
              "          element.appendChild(docLink);\n",
              "        }\n",
              "      </script>\n",
              "    </div>\n",
              "  </div>\n",
              "  "
            ]
          },
          "metadata": {},
          "execution_count": 41
        }
      ]
    },
    {
      "cell_type": "code",
      "source": [
        "from sklearn.metrics import accuracy_score, precision_score, recall_score, f1_score\n",
        "\n",
        "# Convert y_test to numpy array\n",
        "y_test_array = y_test.to_numpy()\n",
        "\n",
        "print('Accuracy:', accuracy_score(y_test_array, predicted_labels))\n",
        "print('Precision:', precision_score(y_test_array, predicted_labels, average='macro'))\n",
        "print('Recall:', recall_score(y_test_array, predicted_labels, average='macro'))\n",
        "print('F1 Score:', f1_score(y_test_array, predicted_labels, average='macro'))\n"
      ],
      "metadata": {
        "colab": {
          "base_uri": "https://localhost:8080/"
        },
        "id": "8d6bTA73obG2",
        "outputId": "3664e083-eb0a-4cee-d9fb-effe2acf0f1f"
      },
      "execution_count": 42,
      "outputs": [
        {
          "output_type": "stream",
          "name": "stdout",
          "text": [
            "Accuracy: 0.5789473684210527\n",
            "Precision: 0.5659545499666107\n",
            "Recall: 0.5589774557165862\n",
            "F1 Score: 0.5605730403316266\n"
          ]
        }
      ]
    },
    {
      "cell_type": "markdown",
      "source": [
        "#CONCLUSIONS\n",
        "\n",
        "Analyzing the results obtained from the neural network model for predicting the results of football matches, we see that the accuracy of the model is 58%. This means that the model correctly predicted the outcome of approximately 58% of the test matches. This is quite a good result, given the complex nature of predicting the outcome of football matches, where many variables can affect the final result.\n",
        "\n",
        "Looking more closely at the metrics for each class, we see that Precision, Recall, and F1-scores are relatively low for class 0. This suggests that the model is having a hard time predicting that particular class. It is possible that the model needs more data for this class, or that there are some features that are unique to this class that are difficult for the model to capture.\n",
        "\n",
        "For classes 1 and 2, the metric values are higher, suggesting that the model is better at predicting these classes.\n",
        "\n",
        "The confusion matrix further illustrates where the model is making mistakes. For example, the model often confuses classes 0 and 1, suggesting that the two classes may be difficult to distinguish based on available features.\n",
        "\n",
        "Compared to the **Random Forest** and **XGBoost** models, the neural network has comparable accuracy, suggesting that neither model is significantly better than the other for this particular problem.\n",
        "\n",
        "\n",
        "\n",
        "---\n",
        "However, it is important to emphasize that predicting the outcome of football matches is a very complex task. Football is an unpredictable sport and the outcome of matches can be affected by many factors that are difficult to account for in the model, such as team strategy, player injuries, player form, and even factors such as weather conditions and mental strain. In fact, even the most accurate prediction models may not be able to anticipate the surprises that are a common feature of football.\n",
        "\n",
        "---\n",
        "\n",
        "When analyzing the results of machine learning models in the context of predicting football match results, we noticed that even the most efficient model (XGBoost) achieved an accuracy of around 61%. The model based on the neural network achieved an accuracy of about 58%. These results highlight the difficulty of the problem - football is an unpredictable sport where the outcome of a match can change at any minute.\n",
        "\n",
        "While these models may provide some information, they do not always reflect the full dynamics of a match. It is important to understand that modeling such a complex field as football requires taking into account many variables that can affect the result. This understanding is one of the key lessons learned from this project.\n",
        "\n",
        "During the construction of the models, I experimented with various parameters and features, studying their impact on the quality of predictions. After many tests and research, I selected a set of features that provided the most promising results, achieving accuracy in the range of 58% to 60%. This process underscores the importance of the feature selection and model tuning process in machine learning, while demonstrating that even after careful selection of features and parameters, the model's accuracy in predicting football outcomes is limited by the unpredictability of the sport itself.\n",
        "\n",
        "When predicting match outcomes, an alternative approach might be to look for additional data that may be useful, such as player stats, injury data, and even weather conditions. We can also explore other modeling techniques. \n",
        "\n",
        "\n"
      ],
      "metadata": {
        "id": "XV9US0ALw7ET"
      }
    }
  ]
}